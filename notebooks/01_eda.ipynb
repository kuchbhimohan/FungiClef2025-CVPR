{
 "cells": [
  {
   "cell_type": "code",
   "execution_count": 134,
   "id": "387a64d1-36ac-43b0-be11-01609fb2f93d",
   "metadata": {},
   "outputs": [],
   "source": [
    "import pandas as pd\n",
    "import numpy as np"
   ]
  },
  {
   "cell_type": "code",
   "execution_count": 135,
   "id": "540682b7-4c6d-4abd-9be5-c3c19e7e4b93",
   "metadata": {},
   "outputs": [
    {
     "data": {
      "text/html": [
       "<div>\n",
       "<style scoped>\n",
       "    .dataframe tbody tr th:only-of-type {\n",
       "        vertical-align: middle;\n",
       "    }\n",
       "\n",
       "    .dataframe tbody tr th {\n",
       "        vertical-align: top;\n",
       "    }\n",
       "\n",
       "    .dataframe thead th {\n",
       "        text-align: right;\n",
       "    }\n",
       "</style>\n",
       "<table border=\"1\" class=\"dataframe\">\n",
       "  <thead>\n",
       "    <tr style=\"text-align: right;\">\n",
       "      <th></th>\n",
       "      <th>eventDate</th>\n",
       "      <th>year</th>\n",
       "      <th>month</th>\n",
       "      <th>day</th>\n",
       "      <th>habitat</th>\n",
       "      <th>countryCode</th>\n",
       "      <th>scientificName</th>\n",
       "      <th>kingdom</th>\n",
       "      <th>phylum</th>\n",
       "      <th>class</th>\n",
       "      <th>...</th>\n",
       "      <th>observationID</th>\n",
       "      <th>region</th>\n",
       "      <th>district</th>\n",
       "      <th>filename</th>\n",
       "      <th>category_id</th>\n",
       "      <th>metaSubstrate</th>\n",
       "      <th>poisonous</th>\n",
       "      <th>elevation</th>\n",
       "      <th>landcover</th>\n",
       "      <th>biogeographicalRegion</th>\n",
       "    </tr>\n",
       "  </thead>\n",
       "  <tbody>\n",
       "    <tr>\n",
       "      <th>0</th>\n",
       "      <td>2021-01-24</td>\n",
       "      <td>2021</td>\n",
       "      <td>1.0</td>\n",
       "      <td>24.0</td>\n",
       "      <td>Mixed woodland (with coniferous and deciduous ...</td>\n",
       "      <td>DK</td>\n",
       "      <td>Xylohypha ferruginosa (Corda) S.Hughes</td>\n",
       "      <td>Fungi</td>\n",
       "      <td>Ascomycota</td>\n",
       "      <td>Eurotiomycetes</td>\n",
       "      <td>...</td>\n",
       "      <td>3052832307</td>\n",
       "      <td>Sjælland</td>\n",
       "      <td>Næstved</td>\n",
       "      <td>0-3052832307.JPG</td>\n",
       "      <td>2421</td>\n",
       "      <td>wood</td>\n",
       "      <td>0</td>\n",
       "      <td>0.0</td>\n",
       "      <td>16.0</td>\n",
       "      <td>continental</td>\n",
       "    </tr>\n",
       "    <tr>\n",
       "      <th>1</th>\n",
       "      <td>2021-02-27</td>\n",
       "      <td>2021</td>\n",
       "      <td>2.0</td>\n",
       "      <td>27.0</td>\n",
       "      <td>garden</td>\n",
       "      <td>DK</td>\n",
       "      <td>Comatricha alta Preuss, 1851</td>\n",
       "      <td>Protozoa</td>\n",
       "      <td>Mycetozoa</td>\n",
       "      <td>Myxomycetes</td>\n",
       "      <td>...</td>\n",
       "      <td>3061954303</td>\n",
       "      <td>Hovedstaden</td>\n",
       "      <td>Gribskov</td>\n",
       "      <td>0-3061954303.JPG</td>\n",
       "      <td>386</td>\n",
       "      <td>wood</td>\n",
       "      <td>0</td>\n",
       "      <td>0.0</td>\n",
       "      <td>17.0</td>\n",
       "      <td>continental</td>\n",
       "    </tr>\n",
       "    <tr>\n",
       "      <th>2</th>\n",
       "      <td>2021-02-27</td>\n",
       "      <td>2021</td>\n",
       "      <td>2.0</td>\n",
       "      <td>27.0</td>\n",
       "      <td>garden</td>\n",
       "      <td>DK</td>\n",
       "      <td>Comatricha alta Preuss, 1851</td>\n",
       "      <td>Protozoa</td>\n",
       "      <td>Mycetozoa</td>\n",
       "      <td>Myxomycetes</td>\n",
       "      <td>...</td>\n",
       "      <td>3061954303</td>\n",
       "      <td>Hovedstaden</td>\n",
       "      <td>Gribskov</td>\n",
       "      <td>1-3061954303.JPG</td>\n",
       "      <td>386</td>\n",
       "      <td>wood</td>\n",
       "      <td>0</td>\n",
       "      <td>0.0</td>\n",
       "      <td>17.0</td>\n",
       "      <td>continental</td>\n",
       "    </tr>\n",
       "    <tr>\n",
       "      <th>3</th>\n",
       "      <td>2021-02-27</td>\n",
       "      <td>2021</td>\n",
       "      <td>2.0</td>\n",
       "      <td>27.0</td>\n",
       "      <td>garden</td>\n",
       "      <td>DK</td>\n",
       "      <td>Comatricha alta Preuss, 1851</td>\n",
       "      <td>Protozoa</td>\n",
       "      <td>Mycetozoa</td>\n",
       "      <td>Myxomycetes</td>\n",
       "      <td>...</td>\n",
       "      <td>3061954303</td>\n",
       "      <td>Hovedstaden</td>\n",
       "      <td>Gribskov</td>\n",
       "      <td>2-3061954303.JPG</td>\n",
       "      <td>386</td>\n",
       "      <td>wood</td>\n",
       "      <td>0</td>\n",
       "      <td>0.0</td>\n",
       "      <td>17.0</td>\n",
       "      <td>continental</td>\n",
       "    </tr>\n",
       "    <tr>\n",
       "      <th>4</th>\n",
       "      <td>2021-02-27</td>\n",
       "      <td>2021</td>\n",
       "      <td>2.0</td>\n",
       "      <td>27.0</td>\n",
       "      <td>garden</td>\n",
       "      <td>DK</td>\n",
       "      <td>Comatricha alta Preuss, 1851</td>\n",
       "      <td>Protozoa</td>\n",
       "      <td>Mycetozoa</td>\n",
       "      <td>Myxomycetes</td>\n",
       "      <td>...</td>\n",
       "      <td>3061954303</td>\n",
       "      <td>Hovedstaden</td>\n",
       "      <td>Gribskov</td>\n",
       "      <td>3-3061954303.JPG</td>\n",
       "      <td>386</td>\n",
       "      <td>wood</td>\n",
       "      <td>0</td>\n",
       "      <td>0.0</td>\n",
       "      <td>17.0</td>\n",
       "      <td>continental</td>\n",
       "    </tr>\n",
       "  </tbody>\n",
       "</table>\n",
       "<p>5 rows × 31 columns</p>\n",
       "</div>"
      ],
      "text/plain": [
       "    eventDate  year  month   day  \\\n",
       "0  2021-01-24  2021    1.0  24.0   \n",
       "1  2021-02-27  2021    2.0  27.0   \n",
       "2  2021-02-27  2021    2.0  27.0   \n",
       "3  2021-02-27  2021    2.0  27.0   \n",
       "4  2021-02-27  2021    2.0  27.0   \n",
       "\n",
       "                                             habitat countryCode  \\\n",
       "0  Mixed woodland (with coniferous and deciduous ...          DK   \n",
       "1                                             garden          DK   \n",
       "2                                             garden          DK   \n",
       "3                                             garden          DK   \n",
       "4                                             garden          DK   \n",
       "\n",
       "                           scientificName   kingdom      phylum  \\\n",
       "0  Xylohypha ferruginosa (Corda) S.Hughes     Fungi  Ascomycota   \n",
       "1            Comatricha alta Preuss, 1851  Protozoa   Mycetozoa   \n",
       "2            Comatricha alta Preuss, 1851  Protozoa   Mycetozoa   \n",
       "3            Comatricha alta Preuss, 1851  Protozoa   Mycetozoa   \n",
       "4            Comatricha alta Preuss, 1851  Protozoa   Mycetozoa   \n",
       "\n",
       "            class  ... observationID       region  district          filename  \\\n",
       "0  Eurotiomycetes  ...    3052832307     Sjælland   Næstved  0-3052832307.JPG   \n",
       "1     Myxomycetes  ...    3061954303  Hovedstaden  Gribskov  0-3061954303.JPG   \n",
       "2     Myxomycetes  ...    3061954303  Hovedstaden  Gribskov  1-3061954303.JPG   \n",
       "3     Myxomycetes  ...    3061954303  Hovedstaden  Gribskov  2-3061954303.JPG   \n",
       "4     Myxomycetes  ...    3061954303  Hovedstaden  Gribskov  3-3061954303.JPG   \n",
       "\n",
       "   category_id metaSubstrate poisonous elevation  landcover  \\\n",
       "0         2421          wood         0       0.0       16.0   \n",
       "1          386          wood         0       0.0       17.0   \n",
       "2          386          wood         0       0.0       17.0   \n",
       "3          386          wood         0       0.0       17.0   \n",
       "4          386          wood         0       0.0       17.0   \n",
       "\n",
       "   biogeographicalRegion  \n",
       "0            continental  \n",
       "1            continental  \n",
       "2            continental  \n",
       "3            continental  \n",
       "4            continental  \n",
       "\n",
       "[5 rows x 31 columns]"
      ]
     },
     "execution_count": 135,
     "metadata": {},
     "output_type": "execute_result"
    }
   ],
   "source": [
    "df_train = pd.read_csv(\"../data/raw/metadata/FungiTastic-FewShot/FungiTastic-FewShot-Train.csv\")\n",
    "df_train.head()"
   ]
  },
  {
   "cell_type": "code",
   "execution_count": 136,
   "id": "9cb1a856-4b26-4a6f-b5fd-b556f23c40b3",
   "metadata": {},
   "outputs": [
    {
     "data": {
      "text/plain": [
       "Index(['eventDate', 'year', 'month', 'day', 'habitat', 'countryCode',\n",
       "       'scientificName', 'kingdom', 'phylum', 'class', 'order', 'family',\n",
       "       'genus', 'specificEpithet', 'hasCoordinate', 'species',\n",
       "       'iucnRedListCategory', 'substrate', 'latitude', 'longitude',\n",
       "       'coorUncert', 'observationID', 'region', 'district', 'filename',\n",
       "       'category_id', 'metaSubstrate', 'poisonous', 'elevation', 'landcover',\n",
       "       'biogeographicalRegion'],\n",
       "      dtype='object')"
      ]
     },
     "execution_count": 136,
     "metadata": {},
     "output_type": "execute_result"
    }
   ],
   "source": [
    "df_train.columns"
   ]
  },
  {
   "cell_type": "code",
   "execution_count": 137,
   "id": "aedc70de-eb2b-4892-b658-5f0dd6fa9250",
   "metadata": {},
   "outputs": [
    {
     "data": {
      "text/plain": [
       "eventDate                 object\n",
       "year                       int64\n",
       "month                    float64\n",
       "day                      float64\n",
       "habitat                   object\n",
       "countryCode               object\n",
       "scientificName            object\n",
       "kingdom                   object\n",
       "phylum                    object\n",
       "class                     object\n",
       "order                     object\n",
       "family                    object\n",
       "genus                     object\n",
       "specificEpithet           object\n",
       "hasCoordinate               bool\n",
       "species                   object\n",
       "iucnRedListCategory       object\n",
       "substrate                 object\n",
       "latitude                 float64\n",
       "longitude                float64\n",
       "coorUncert               float64\n",
       "observationID              int64\n",
       "region                    object\n",
       "district                  object\n",
       "filename                  object\n",
       "category_id                int64\n",
       "metaSubstrate             object\n",
       "poisonous                  int64\n",
       "elevation                float64\n",
       "landcover                float64\n",
       "biogeographicalRegion     object\n",
       "dtype: object"
      ]
     },
     "execution_count": 137,
     "metadata": {},
     "output_type": "execute_result"
    }
   ],
   "source": [
    "df_train.dtypes"
   ]
  },
  {
   "cell_type": "code",
   "execution_count": 138,
   "id": "64cf757d-91f9-477e-b1fd-014ae3444074",
   "metadata": {},
   "outputs": [
    {
     "name": "stdout",
     "output_type": "stream",
     "text": [
      "Dataset shape: (7819, 31)\n",
      "------------------------------------------------------------\n",
      "Missing values:\n",
      "eventDate                  0\n",
      "year                       0\n",
      "month                      0\n",
      "day                        0\n",
      "habitat                    0\n",
      "countryCode                0\n",
      "scientificName             0\n",
      "kingdom                    0\n",
      "phylum                     0\n",
      "class                     40\n",
      "order                    106\n",
      "family                   176\n",
      "genus                      0\n",
      "specificEpithet            0\n",
      "hasCoordinate              0\n",
      "species                    0\n",
      "iucnRedListCategory        0\n",
      "substrate                399\n",
      "latitude                   0\n",
      "longitude                  0\n",
      "coorUncert                14\n",
      "observationID              0\n",
      "region                    70\n",
      "district                 107\n",
      "filename                   0\n",
      "category_id                0\n",
      "metaSubstrate              0\n",
      "poisonous                  0\n",
      "elevation                 97\n",
      "landcover                103\n",
      "biogeographicalRegion    151\n",
      "dtype: int64\n",
      "------------------------------------------------------------\n",
      "Data types:\n",
      "eventDate                 object\n",
      "year                       int64\n",
      "month                    float64\n",
      "day                      float64\n",
      "habitat                   object\n",
      "countryCode               object\n",
      "scientificName            object\n",
      "kingdom                   object\n",
      "phylum                    object\n",
      "class                     object\n",
      "order                     object\n",
      "family                    object\n",
      "genus                     object\n",
      "specificEpithet           object\n",
      "hasCoordinate               bool\n",
      "species                   object\n",
      "iucnRedListCategory       object\n",
      "substrate                 object\n",
      "latitude                 float64\n",
      "longitude                float64\n",
      "coorUncert               float64\n",
      "observationID              int64\n",
      "region                    object\n",
      "district                  object\n",
      "filename                  object\n",
      "category_id                int64\n",
      "metaSubstrate             object\n",
      "poisonous                  int64\n",
      "elevation                float64\n",
      "landcover                float64\n",
      "biogeographicalRegion     object\n",
      "dtype: object\n",
      "------------------------------------------------------------\n",
      "------------------------------------------------------------\n",
      "Number of duplicate observations: 3526\n"
     ]
    }
   ],
   "source": [
    "\n",
    "# Basic exploration\n",
    "print(f\"Dataset shape: {df_train.shape}\")\n",
    "print(\"--\"*30)\n",
    "print(f\"Missing values:\\n{df_train.isnull().sum()}\")\n",
    "print(\"--\"*30)\n",
    "print(f\"Data types:\\n{df_train.dtypes}\")\n",
    "print(\"--\"*30)\n",
    "# Check for duplicate observations\n",
    "duplicates = df_train.duplicated(subset=['observationID']).sum()\n",
    "print(\"--\"*30)\n",
    "print(f\"Number of duplicate observations: {duplicates}\")"
   ]
  },
  {
   "cell_type": "code",
   "execution_count": 139,
   "id": "38da1fd8-ce4a-4df1-a9b3-0a48b18cf515",
   "metadata": {},
   "outputs": [
    {
     "data": {
      "text/plain": [
       "dtype('O')"
      ]
     },
     "execution_count": 139,
     "metadata": {},
     "output_type": "execute_result"
    }
   ],
   "source": [
    "# // first we will handle missing values of column one by one \n",
    "# //  hnalding class column firstly \n",
    "df_train[\"class\"].dtype"
   ]
  },
  {
   "cell_type": "code",
   "execution_count": 140,
   "id": "103eb7b1-6d8b-457f-8018-5dc159cda9dd",
   "metadata": {},
   "outputs": [
    {
     "data": {
      "text/plain": [
       "0    Eurotiomycetes\n",
       "1       Myxomycetes\n",
       "2       Myxomycetes\n",
       "3       Myxomycetes\n",
       "4       Myxomycetes\n",
       "Name: class, dtype: object"
      ]
     },
     "execution_count": 140,
     "metadata": {},
     "output_type": "execute_result"
    }
   ],
   "source": [
    "df_train['class'].head()"
   ]
  },
  {
   "cell_type": "code",
   "execution_count": 141,
   "id": "32b9396e-4042-4744-a831-7dc65f33aae3",
   "metadata": {},
   "outputs": [
    {
     "data": {
      "text/plain": [
       "32"
      ]
     },
     "execution_count": 141,
     "metadata": {},
     "output_type": "execute_result"
    }
   ],
   "source": [
    "df_train['class'].nunique()"
   ]
  },
  {
   "cell_type": "code",
   "execution_count": 142,
   "id": "5c1e8cd0-129a-4825-9cec-adaf23077bd5",
   "metadata": {},
   "outputs": [
    {
     "data": {
      "text/plain": [
       "array(['Eurotiomycetes', 'Myxomycetes', 'Pezizomycetes',\n",
       "       'Arthoniomycetes', 'Dothideomycetes', 'Sordariomycetes',\n",
       "       'Lecanoromycetes', 'Leotiomycetes', 'Peronosporea',\n",
       "       'Agaricomycetes', nan, 'Ustilaginomycetes', 'Pucciniomycetes',\n",
       "       'Exobasidiomycetes', 'Tremellomycetes', 'Dacrymycetes',\n",
       "       'Geoglossomycetes', 'Orbiliomycetes', 'Candelariomycetes',\n",
       "       'Microbotryomycetes', 'Mucoromycetes', 'Taphrinomycetes',\n",
       "       'Entomophthoromycetes', 'Sareomycetes', 'Atractiellomycetes',\n",
       "       'Coniocybomycetes', 'Glomeromycetes', 'Laboulbeniomycetes',\n",
       "       'Cystobasidiomycetes', 'Chytridiomycetes', 'Blastocladiomycetes',\n",
       "       'Zoopagomycetes', 'Lichinomycetes'], dtype=object)"
      ]
     },
     "execution_count": 142,
     "metadata": {},
     "output_type": "execute_result"
    }
   ],
   "source": [
    "df_train['class'].unique()"
   ]
  },
  {
   "cell_type": "code",
   "execution_count": 143,
   "id": "89d605e4-61cf-4d91-8654-7d87f14bd579",
   "metadata": {},
   "outputs": [
    {
     "name": "stdout",
     "output_type": "stream",
     "text": [
      "Remaining missing values in 'class': 10\n"
     ]
    }
   ],
   "source": [
    "# filling the missing values from  the msot coomun phylum\n",
    "# Create a mapping from phylum to most common class\n",
    "phylum_to_common_class = {}\n",
    "for phylum in df_train['phylum'].unique():\n",
    "    if pd.isna(phylum):\n",
    "        continue\n",
    "    \n",
    "    # Get all classes for this phylum (excluding NaN)\n",
    "    classes = df_train[df_train['phylum'] == phylum]['class'].dropna()\n",
    "    \n",
    "    if len(classes) > 0:\n",
    "        # Find most common class for this phylum\n",
    "        most_common_class = classes.value_counts().idxmax()\n",
    "        phylum_to_common_class[phylum] = most_common_class\n",
    "\n",
    "# Fill missing class values based on phylum - only if phylum exists in mapping\n",
    "for idx in df_train[df_train['class'].isna()].index:\n",
    "    phylum = df_train.loc[idx, 'phylum']\n",
    "    \n",
    "    # Only fill if phylum exists in our mapping\n",
    "    if phylum in phylum_to_common_class:\n",
    "        df_train.loc[idx, 'class'] = phylum_to_common_class[phylum]\n",
    "    # If phylum is unknown or has no examples with class values, leave as NaN\n",
    "\n",
    "# Check how many NaN values remain\n",
    "print(f\"Remaining missing values in 'class': {df_train['class'].isna().sum()}\")"
   ]
  },
  {
   "cell_type": "code",
   "execution_count": 144,
   "id": "444638a3-99b0-40fa-b2e3-bc97db84904f",
   "metadata": {},
   "outputs": [
    {
     "data": {
      "text/html": [
       "<div>\n",
       "<style scoped>\n",
       "    .dataframe tbody tr th:only-of-type {\n",
       "        vertical-align: middle;\n",
       "    }\n",
       "\n",
       "    .dataframe tbody tr th {\n",
       "        vertical-align: top;\n",
       "    }\n",
       "\n",
       "    .dataframe thead th {\n",
       "        text-align: right;\n",
       "    }\n",
       "</style>\n",
       "<table border=\"1\" class=\"dataframe\">\n",
       "  <thead>\n",
       "    <tr style=\"text-align: right;\">\n",
       "      <th></th>\n",
       "      <th>eventDate</th>\n",
       "      <th>year</th>\n",
       "      <th>month</th>\n",
       "      <th>day</th>\n",
       "      <th>habitat</th>\n",
       "      <th>countryCode</th>\n",
       "      <th>scientificName</th>\n",
       "      <th>kingdom</th>\n",
       "      <th>phylum</th>\n",
       "      <th>class</th>\n",
       "      <th>...</th>\n",
       "      <th>observationID</th>\n",
       "      <th>region</th>\n",
       "      <th>district</th>\n",
       "      <th>filename</th>\n",
       "      <th>category_id</th>\n",
       "      <th>metaSubstrate</th>\n",
       "      <th>poisonous</th>\n",
       "      <th>elevation</th>\n",
       "      <th>landcover</th>\n",
       "      <th>biogeographicalRegion</th>\n",
       "    </tr>\n",
       "  </thead>\n",
       "  <tbody>\n",
       "    <tr>\n",
       "      <th>658</th>\n",
       "      <td>2020-07-13</td>\n",
       "      <td>2020</td>\n",
       "      <td>7.0</td>\n",
       "      <td>13.0</td>\n",
       "      <td>Unmanaged deciduous woodland</td>\n",
       "      <td>DK</td>\n",
       "      <td>Arcyria oerstedtii Rostaf.</td>\n",
       "      <td>Protozoa</td>\n",
       "      <td>Amoebozoa</td>\n",
       "      <td>NaN</td>\n",
       "      <td>...</td>\n",
       "      <td>2847225301</td>\n",
       "      <td>Syddanmark</td>\n",
       "      <td>Odense</td>\n",
       "      <td>0-2847225301.JPG</td>\n",
       "      <td>105</td>\n",
       "      <td>wood</td>\n",
       "      <td>0</td>\n",
       "      <td>0.0</td>\n",
       "      <td>17.0</td>\n",
       "      <td>continental</td>\n",
       "    </tr>\n",
       "    <tr>\n",
       "      <th>659</th>\n",
       "      <td>2020-07-13</td>\n",
       "      <td>2020</td>\n",
       "      <td>7.0</td>\n",
       "      <td>13.0</td>\n",
       "      <td>Unmanaged deciduous woodland</td>\n",
       "      <td>DK</td>\n",
       "      <td>Arcyria oerstedtii Rostaf.</td>\n",
       "      <td>Protozoa</td>\n",
       "      <td>Amoebozoa</td>\n",
       "      <td>NaN</td>\n",
       "      <td>...</td>\n",
       "      <td>2847225301</td>\n",
       "      <td>Syddanmark</td>\n",
       "      <td>Odense</td>\n",
       "      <td>1-2847225301.JPG</td>\n",
       "      <td>105</td>\n",
       "      <td>wood</td>\n",
       "      <td>0</td>\n",
       "      <td>0.0</td>\n",
       "      <td>17.0</td>\n",
       "      <td>continental</td>\n",
       "    </tr>\n",
       "    <tr>\n",
       "      <th>660</th>\n",
       "      <td>2020-07-13</td>\n",
       "      <td>2020</td>\n",
       "      <td>7.0</td>\n",
       "      <td>13.0</td>\n",
       "      <td>Unmanaged deciduous woodland</td>\n",
       "      <td>DK</td>\n",
       "      <td>Arcyria oerstedtii Rostaf.</td>\n",
       "      <td>Protozoa</td>\n",
       "      <td>Amoebozoa</td>\n",
       "      <td>NaN</td>\n",
       "      <td>...</td>\n",
       "      <td>2847225301</td>\n",
       "      <td>Syddanmark</td>\n",
       "      <td>Odense</td>\n",
       "      <td>2-2847225301.JPG</td>\n",
       "      <td>105</td>\n",
       "      <td>wood</td>\n",
       "      <td>0</td>\n",
       "      <td>0.0</td>\n",
       "      <td>17.0</td>\n",
       "      <td>continental</td>\n",
       "    </tr>\n",
       "    <tr>\n",
       "      <th>661</th>\n",
       "      <td>2020-07-13</td>\n",
       "      <td>2020</td>\n",
       "      <td>7.0</td>\n",
       "      <td>13.0</td>\n",
       "      <td>Unmanaged deciduous woodland</td>\n",
       "      <td>DK</td>\n",
       "      <td>Arcyria oerstedtii Rostaf.</td>\n",
       "      <td>Protozoa</td>\n",
       "      <td>Amoebozoa</td>\n",
       "      <td>NaN</td>\n",
       "      <td>...</td>\n",
       "      <td>2847225301</td>\n",
       "      <td>Syddanmark</td>\n",
       "      <td>Odense</td>\n",
       "      <td>3-2847225301.JPG</td>\n",
       "      <td>105</td>\n",
       "      <td>wood</td>\n",
       "      <td>0</td>\n",
       "      <td>0.0</td>\n",
       "      <td>17.0</td>\n",
       "      <td>continental</td>\n",
       "    </tr>\n",
       "    <tr>\n",
       "      <th>4224</th>\n",
       "      <td>2021-02-22</td>\n",
       "      <td>2021</td>\n",
       "      <td>2.0</td>\n",
       "      <td>22.0</td>\n",
       "      <td>natural grassland</td>\n",
       "      <td>DK</td>\n",
       "      <td>Arcyria oerstedtii Rostaf.</td>\n",
       "      <td>Protozoa</td>\n",
       "      <td>Amoebozoa</td>\n",
       "      <td>NaN</td>\n",
       "      <td>...</td>\n",
       "      <td>3109982302</td>\n",
       "      <td>Midtjylland</td>\n",
       "      <td>Samsø</td>\n",
       "      <td>1-3109982302.JPG</td>\n",
       "      <td>105</td>\n",
       "      <td>wood</td>\n",
       "      <td>0</td>\n",
       "      <td>0.0</td>\n",
       "      <td>17.0</td>\n",
       "      <td>continental</td>\n",
       "    </tr>\n",
       "    <tr>\n",
       "      <th>4225</th>\n",
       "      <td>2021-02-22</td>\n",
       "      <td>2021</td>\n",
       "      <td>2.0</td>\n",
       "      <td>22.0</td>\n",
       "      <td>natural grassland</td>\n",
       "      <td>DK</td>\n",
       "      <td>Arcyria oerstedtii Rostaf.</td>\n",
       "      <td>Protozoa</td>\n",
       "      <td>Amoebozoa</td>\n",
       "      <td>NaN</td>\n",
       "      <td>...</td>\n",
       "      <td>3109982302</td>\n",
       "      <td>Midtjylland</td>\n",
       "      <td>Samsø</td>\n",
       "      <td>3-3109982302.JPG</td>\n",
       "      <td>105</td>\n",
       "      <td>wood</td>\n",
       "      <td>0</td>\n",
       "      <td>0.0</td>\n",
       "      <td>17.0</td>\n",
       "      <td>continental</td>\n",
       "    </tr>\n",
       "    <tr>\n",
       "      <th>4226</th>\n",
       "      <td>2021-02-22</td>\n",
       "      <td>2021</td>\n",
       "      <td>2.0</td>\n",
       "      <td>22.0</td>\n",
       "      <td>natural grassland</td>\n",
       "      <td>DK</td>\n",
       "      <td>Arcyria oerstedtii Rostaf.</td>\n",
       "      <td>Protozoa</td>\n",
       "      <td>Amoebozoa</td>\n",
       "      <td>NaN</td>\n",
       "      <td>...</td>\n",
       "      <td>3109982302</td>\n",
       "      <td>Midtjylland</td>\n",
       "      <td>Samsø</td>\n",
       "      <td>4-3109982302.JPG</td>\n",
       "      <td>105</td>\n",
       "      <td>wood</td>\n",
       "      <td>0</td>\n",
       "      <td>0.0</td>\n",
       "      <td>17.0</td>\n",
       "      <td>continental</td>\n",
       "    </tr>\n",
       "    <tr>\n",
       "      <th>4940</th>\n",
       "      <td>2020-12-13</td>\n",
       "      <td>2020</td>\n",
       "      <td>12.0</td>\n",
       "      <td>13.0</td>\n",
       "      <td>Mixed woodland (with coniferous and deciduous ...</td>\n",
       "      <td>DK</td>\n",
       "      <td>Arcyria oerstedtii Rostaf.</td>\n",
       "      <td>Protozoa</td>\n",
       "      <td>Amoebozoa</td>\n",
       "      <td>NaN</td>\n",
       "      <td>...</td>\n",
       "      <td>3014634316</td>\n",
       "      <td>Syddanmark</td>\n",
       "      <td>Svendborg</td>\n",
       "      <td>0-3014634316.JPG</td>\n",
       "      <td>105</td>\n",
       "      <td>wood</td>\n",
       "      <td>0</td>\n",
       "      <td>0.0</td>\n",
       "      <td>17.0</td>\n",
       "      <td>continental</td>\n",
       "    </tr>\n",
       "    <tr>\n",
       "      <th>4941</th>\n",
       "      <td>2020-12-13</td>\n",
       "      <td>2020</td>\n",
       "      <td>12.0</td>\n",
       "      <td>13.0</td>\n",
       "      <td>Mixed woodland (with coniferous and deciduous ...</td>\n",
       "      <td>DK</td>\n",
       "      <td>Arcyria oerstedtii Rostaf.</td>\n",
       "      <td>Protozoa</td>\n",
       "      <td>Amoebozoa</td>\n",
       "      <td>NaN</td>\n",
       "      <td>...</td>\n",
       "      <td>3014634316</td>\n",
       "      <td>Syddanmark</td>\n",
       "      <td>Svendborg</td>\n",
       "      <td>2-3014634316.JPG</td>\n",
       "      <td>105</td>\n",
       "      <td>wood</td>\n",
       "      <td>0</td>\n",
       "      <td>0.0</td>\n",
       "      <td>17.0</td>\n",
       "      <td>continental</td>\n",
       "    </tr>\n",
       "    <tr>\n",
       "      <th>5188</th>\n",
       "      <td>2009-08-16</td>\n",
       "      <td>2009</td>\n",
       "      <td>8.0</td>\n",
       "      <td>16.0</td>\n",
       "      <td>Bog woodland</td>\n",
       "      <td>DK</td>\n",
       "      <td>Arcyria oerstedtii Rostaf.</td>\n",
       "      <td>Protozoa</td>\n",
       "      <td>Amoebozoa</td>\n",
       "      <td>NaN</td>\n",
       "      <td>...</td>\n",
       "      <td>2238235529</td>\n",
       "      <td>Midtjylland</td>\n",
       "      <td>Skanderborg</td>\n",
       "      <td>0-2238235529.JPG</td>\n",
       "      <td>105</td>\n",
       "      <td>wood</td>\n",
       "      <td>0</td>\n",
       "      <td>12.0</td>\n",
       "      <td>13.0</td>\n",
       "      <td>continental</td>\n",
       "    </tr>\n",
       "  </tbody>\n",
       "</table>\n",
       "<p>10 rows × 31 columns</p>\n",
       "</div>"
      ],
      "text/plain": [
       "       eventDate  year  month   day  \\\n",
       "658   2020-07-13  2020    7.0  13.0   \n",
       "659   2020-07-13  2020    7.0  13.0   \n",
       "660   2020-07-13  2020    7.0  13.0   \n",
       "661   2020-07-13  2020    7.0  13.0   \n",
       "4224  2021-02-22  2021    2.0  22.0   \n",
       "4225  2021-02-22  2021    2.0  22.0   \n",
       "4226  2021-02-22  2021    2.0  22.0   \n",
       "4940  2020-12-13  2020   12.0  13.0   \n",
       "4941  2020-12-13  2020   12.0  13.0   \n",
       "5188  2009-08-16  2009    8.0  16.0   \n",
       "\n",
       "                                                habitat countryCode  \\\n",
       "658                        Unmanaged deciduous woodland          DK   \n",
       "659                        Unmanaged deciduous woodland          DK   \n",
       "660                        Unmanaged deciduous woodland          DK   \n",
       "661                        Unmanaged deciduous woodland          DK   \n",
       "4224                                  natural grassland          DK   \n",
       "4225                                  natural grassland          DK   \n",
       "4226                                  natural grassland          DK   \n",
       "4940  Mixed woodland (with coniferous and deciduous ...          DK   \n",
       "4941  Mixed woodland (with coniferous and deciduous ...          DK   \n",
       "5188                                       Bog woodland          DK   \n",
       "\n",
       "                  scientificName   kingdom     phylum class  ...  \\\n",
       "658   Arcyria oerstedtii Rostaf.  Protozoa  Amoebozoa   NaN  ...   \n",
       "659   Arcyria oerstedtii Rostaf.  Protozoa  Amoebozoa   NaN  ...   \n",
       "660   Arcyria oerstedtii Rostaf.  Protozoa  Amoebozoa   NaN  ...   \n",
       "661   Arcyria oerstedtii Rostaf.  Protozoa  Amoebozoa   NaN  ...   \n",
       "4224  Arcyria oerstedtii Rostaf.  Protozoa  Amoebozoa   NaN  ...   \n",
       "4225  Arcyria oerstedtii Rostaf.  Protozoa  Amoebozoa   NaN  ...   \n",
       "4226  Arcyria oerstedtii Rostaf.  Protozoa  Amoebozoa   NaN  ...   \n",
       "4940  Arcyria oerstedtii Rostaf.  Protozoa  Amoebozoa   NaN  ...   \n",
       "4941  Arcyria oerstedtii Rostaf.  Protozoa  Amoebozoa   NaN  ...   \n",
       "5188  Arcyria oerstedtii Rostaf.  Protozoa  Amoebozoa   NaN  ...   \n",
       "\n",
       "     observationID       region     district          filename  category_id  \\\n",
       "658     2847225301   Syddanmark       Odense  0-2847225301.JPG          105   \n",
       "659     2847225301   Syddanmark       Odense  1-2847225301.JPG          105   \n",
       "660     2847225301   Syddanmark       Odense  2-2847225301.JPG          105   \n",
       "661     2847225301   Syddanmark       Odense  3-2847225301.JPG          105   \n",
       "4224    3109982302  Midtjylland        Samsø  1-3109982302.JPG          105   \n",
       "4225    3109982302  Midtjylland        Samsø  3-3109982302.JPG          105   \n",
       "4226    3109982302  Midtjylland        Samsø  4-3109982302.JPG          105   \n",
       "4940    3014634316   Syddanmark    Svendborg  0-3014634316.JPG          105   \n",
       "4941    3014634316   Syddanmark    Svendborg  2-3014634316.JPG          105   \n",
       "5188    2238235529  Midtjylland  Skanderborg  0-2238235529.JPG          105   \n",
       "\n",
       "     metaSubstrate poisonous elevation  landcover  biogeographicalRegion  \n",
       "658           wood         0       0.0       17.0            continental  \n",
       "659           wood         0       0.0       17.0            continental  \n",
       "660           wood         0       0.0       17.0            continental  \n",
       "661           wood         0       0.0       17.0            continental  \n",
       "4224          wood         0       0.0       17.0            continental  \n",
       "4225          wood         0       0.0       17.0            continental  \n",
       "4226          wood         0       0.0       17.0            continental  \n",
       "4940          wood         0       0.0       17.0            continental  \n",
       "4941          wood         0       0.0       17.0            continental  \n",
       "5188          wood         0      12.0       13.0            continental  \n",
       "\n",
       "[10 rows x 31 columns]"
      ]
     },
     "execution_count": 144,
     "metadata": {},
     "output_type": "execute_result"
    }
   ],
   "source": [
    "df_train[df_train['class'].isna()]"
   ]
  },
  {
   "cell_type": "code",
   "execution_count": 145,
   "id": "a0ef12aa-f190-4be8-b089-9882215581d5",
   "metadata": {},
   "outputs": [
    {
     "data": {
      "text/html": [
       "<div>\n",
       "<style scoped>\n",
       "    .dataframe tbody tr th:only-of-type {\n",
       "        vertical-align: middle;\n",
       "    }\n",
       "\n",
       "    .dataframe tbody tr th {\n",
       "        vertical-align: top;\n",
       "    }\n",
       "\n",
       "    .dataframe thead th {\n",
       "        text-align: right;\n",
       "    }\n",
       "</style>\n",
       "<table border=\"1\" class=\"dataframe\">\n",
       "  <thead>\n",
       "    <tr style=\"text-align: right;\">\n",
       "      <th></th>\n",
       "      <th>class</th>\n",
       "      <th>phylum</th>\n",
       "      <th>kingdom</th>\n",
       "      <th>genus</th>\n",
       "    </tr>\n",
       "  </thead>\n",
       "  <tbody>\n",
       "    <tr>\n",
       "      <th>658</th>\n",
       "      <td>NaN</td>\n",
       "      <td>Amoebozoa</td>\n",
       "      <td>Protozoa</td>\n",
       "      <td>Arcyria</td>\n",
       "    </tr>\n",
       "    <tr>\n",
       "      <th>659</th>\n",
       "      <td>NaN</td>\n",
       "      <td>Amoebozoa</td>\n",
       "      <td>Protozoa</td>\n",
       "      <td>Arcyria</td>\n",
       "    </tr>\n",
       "    <tr>\n",
       "      <th>660</th>\n",
       "      <td>NaN</td>\n",
       "      <td>Amoebozoa</td>\n",
       "      <td>Protozoa</td>\n",
       "      <td>Arcyria</td>\n",
       "    </tr>\n",
       "    <tr>\n",
       "      <th>661</th>\n",
       "      <td>NaN</td>\n",
       "      <td>Amoebozoa</td>\n",
       "      <td>Protozoa</td>\n",
       "      <td>Arcyria</td>\n",
       "    </tr>\n",
       "    <tr>\n",
       "      <th>4224</th>\n",
       "      <td>NaN</td>\n",
       "      <td>Amoebozoa</td>\n",
       "      <td>Protozoa</td>\n",
       "      <td>Arcyria</td>\n",
       "    </tr>\n",
       "    <tr>\n",
       "      <th>4225</th>\n",
       "      <td>NaN</td>\n",
       "      <td>Amoebozoa</td>\n",
       "      <td>Protozoa</td>\n",
       "      <td>Arcyria</td>\n",
       "    </tr>\n",
       "    <tr>\n",
       "      <th>4226</th>\n",
       "      <td>NaN</td>\n",
       "      <td>Amoebozoa</td>\n",
       "      <td>Protozoa</td>\n",
       "      <td>Arcyria</td>\n",
       "    </tr>\n",
       "    <tr>\n",
       "      <th>4940</th>\n",
       "      <td>NaN</td>\n",
       "      <td>Amoebozoa</td>\n",
       "      <td>Protozoa</td>\n",
       "      <td>Arcyria</td>\n",
       "    </tr>\n",
       "    <tr>\n",
       "      <th>4941</th>\n",
       "      <td>NaN</td>\n",
       "      <td>Amoebozoa</td>\n",
       "      <td>Protozoa</td>\n",
       "      <td>Arcyria</td>\n",
       "    </tr>\n",
       "    <tr>\n",
       "      <th>5188</th>\n",
       "      <td>NaN</td>\n",
       "      <td>Amoebozoa</td>\n",
       "      <td>Protozoa</td>\n",
       "      <td>Arcyria</td>\n",
       "    </tr>\n",
       "  </tbody>\n",
       "</table>\n",
       "</div>"
      ],
      "text/plain": [
       "     class     phylum   kingdom    genus\n",
       "658    NaN  Amoebozoa  Protozoa  Arcyria\n",
       "659    NaN  Amoebozoa  Protozoa  Arcyria\n",
       "660    NaN  Amoebozoa  Protozoa  Arcyria\n",
       "661    NaN  Amoebozoa  Protozoa  Arcyria\n",
       "4224   NaN  Amoebozoa  Protozoa  Arcyria\n",
       "4225   NaN  Amoebozoa  Protozoa  Arcyria\n",
       "4226   NaN  Amoebozoa  Protozoa  Arcyria\n",
       "4940   NaN  Amoebozoa  Protozoa  Arcyria\n",
       "4941   NaN  Amoebozoa  Protozoa  Arcyria\n",
       "5188   NaN  Amoebozoa  Protozoa  Arcyria"
      ]
     },
     "execution_count": 145,
     "metadata": {},
     "output_type": "execute_result"
    }
   ],
   "source": [
    "df_train[df_train['class'].isna()][['class','phylum','kingdom','genus']]"
   ]
  },
  {
   "cell_type": "code",
   "execution_count": 146,
   "id": "b35ad382-9ace-4e60-979e-b4b93e19dc30",
   "metadata": {},
   "outputs": [
    {
     "name": "stdout",
     "output_type": "stream",
     "text": [
      "Number of remaining missing values in 'class': 0\n"
     ]
    }
   ],
   "source": [
    "# For genus Arcyria in phylum Amoebozoa, the appropriate class would be \"Myxomycetes\" \n",
    "# Fill missing class values for Arcyria genus in Amoebozoa phylum\n",
    "mask = (df_train['class'].isna()) & (df_train['phylum'] == 'Amoebozoa') & (df_train['genus'] == 'Arcyria')\n",
    "df_train.loc[mask, 'class'] = 'Myxomycetes'\n",
    "\n",
    "# Verify the changes\n",
    "print(f\"Number of remaining missing values in 'class': {df_train['class'].isna().sum()}\")"
   ]
  },
  {
   "cell_type": "code",
   "execution_count": 147,
   "id": "0039eb8c-efa0-471a-824f-e6aedbb04f1a",
   "metadata": {},
   "outputs": [
    {
     "data": {
      "text/plain": [
       "dtype('O')"
      ]
     },
     "execution_count": 147,
     "metadata": {},
     "output_type": "execute_result"
    }
   ],
   "source": [
    "# now we will treat the order column's missing values \n",
    "df_train['order'].dtype"
   ]
  },
  {
   "cell_type": "code",
   "execution_count": 148,
   "id": "325edc90-59b2-4be4-a65e-5be1cb26ac80",
   "metadata": {},
   "outputs": [
    {
     "data": {
      "text/plain": [
       "123"
      ]
     },
     "execution_count": 148,
     "metadata": {},
     "output_type": "execute_result"
    }
   ],
   "source": [
    "df_train['order'].nunique()"
   ]
  },
  {
   "cell_type": "code",
   "execution_count": 149,
   "id": "95ca9de8-e5bb-453c-83bf-5db1deeefa7c",
   "metadata": {},
   "outputs": [
    {
     "data": {
      "text/plain": [
       "array(['Chaetothyriales', 'Stemonitidales', 'Pezizales', 'Arthoniales',\n",
       "       'Pleosporales', 'Diaporthales', 'Peltigerales', 'Lecanorales',\n",
       "       'Botryosphaeriales', 'Teloschistales', 'Rhytismatales',\n",
       "       'Chaetomellales', 'Peronosporales', 'Caliciales', 'Acrospermales',\n",
       "       'Cantharellales', nan, 'Helotiales', 'Ustilaginales',\n",
       "       'Chaetosphaeriales', 'Physarales', 'Agaricales', 'Russulales',\n",
       "       'Amphisphaeriales', 'Pucciniales', 'Entylomatales', 'Polyporales',\n",
       "       'Venturiales', 'Stereopsidales', 'Cribrariales', 'Melanosporales',\n",
       "       'Hypocreales', 'Trechisporales', 'Tremellales', 'Atheliales',\n",
       "       'Filobasidiales', 'Mycocaliciales', 'Dacrymycetales',\n",
       "       'Thelephorales', 'Boletales', 'Geoglossales', 'Phacidiales',\n",
       "       'Gomphales', 'Urocystidales', 'Xylariales', 'Coronophorales',\n",
       "       'Hymenochaetales', 'Orbiliales', 'Sordariales', 'Ostropales',\n",
       "       'Acarosporales', 'Thelocarpales', 'Candelariales', 'Lecideales',\n",
       "       'Microthyriales', 'Mycosphaerellales', 'Eurotiales',\n",
       "       'Verrucariales', 'Phyllachorales', 'Monoblastiales',\n",
       "       'Lichenoconiales', 'Pertusariales', 'Calosphaeriales',\n",
       "       'Corticiales', 'Boliniales', 'Microbotryales', 'Xenospadicoidales',\n",
       "       'Leotiales', 'Trypetheliales', 'Trichiales', 'Umbilicariales',\n",
       "       'Mucorales', 'Taphrinales', 'Albuginales', 'Glomerellales',\n",
       "       'Exobasidiales', 'Geastrales', 'Amylocorticiales',\n",
       "       'Entomophthorales', 'Sareales', 'Mytilinidiales', 'Gloeophyllales',\n",
       "       'Baeomycetales', 'Hysteriales', 'Onygenales', 'Atractiellales',\n",
       "       'Phallales', 'Doassansiales', 'Tubeufiales', 'Rhizocarpales',\n",
       "       'Capnodiales', 'Dothideales', 'Auriculariales', 'Schaereriales',\n",
       "       'Pyrenulales', 'Phaeotrichales', 'Vezdaeales', 'Coniocybales',\n",
       "       'Amplistromatales', 'Asterinales', 'Myriangiales',\n",
       "       'Hysterangiales', 'Glomerales', 'Coniochaetales', 'Laboulbeniales',\n",
       "       'Micraspidales', 'Cystobasidiales', 'Collemopsidiales',\n",
       "       'Chytridiales', 'Sebacinales', 'Platygloeales', 'Microascales',\n",
       "       'Thelebolales', 'Annulatascales', 'Phaeomoniellales',\n",
       "       'Physodermatales', 'Minutisphaerales', 'Magnaporthales',\n",
       "       'Cephalothecales', 'Zoopagales', 'Arctomiales', 'Lichinales',\n",
       "       'Vermiculariopsiellales', 'Jobellisiales'], dtype=object)"
      ]
     },
     "execution_count": 149,
     "metadata": {},
     "output_type": "execute_result"
    }
   ],
   "source": [
    "df_train['order'].unique()"
   ]
  },
  {
   "cell_type": "code",
   "execution_count": 150,
   "id": "1fdd1bd3-411a-4574-9821-67ceb6954ea8",
   "metadata": {},
   "outputs": [],
   "source": [
    "# Create a mapping from class to most common order\n",
    "class_to_common_order = {}\n",
    "for class_name in df_train['class'].unique():\n",
    "    if pd.isna(class_name):\n",
    "        continue\n",
    "    \n",
    "    # Get all orders for this class (excluding NaN)\n",
    "    orders = df_train[df_train['class'] == class_name]['order'].dropna()\n",
    "    \n",
    "    if len(orders) > 0:\n",
    "        # Find most common order for this class\n",
    "        most_common_order = orders.value_counts().idxmax()\n",
    "        class_to_common_order[class_name] = most_common_order\n",
    "\n",
    "# Fill missing order values based on class\n",
    "for idx in df_train[df_train['order'].isna()].index:\n",
    "    class_name = df_train.loc[idx, 'class']\n",
    "    \n",
    "    # Only fill if class exists in our mapping\n",
    "    if class_name in class_to_common_order:\n",
    "        df_train.loc[idx, 'order'] = class_to_common_order[class_name]"
   ]
  },
  {
   "cell_type": "code",
   "execution_count": 151,
   "id": "126de548-fc89-4260-8826-7e47f5ce839a",
   "metadata": {},
   "outputs": [
    {
     "data": {
      "text/plain": [
       "0"
      ]
     },
     "execution_count": 151,
     "metadata": {},
     "output_type": "execute_result"
    }
   ],
   "source": [
    "df_train['class'].isna().sum()"
   ]
  },
  {
   "cell_type": "code",
   "execution_count": 152,
   "id": "0f88dbd2-c97f-43c2-b9c0-3c406ba0fd43",
   "metadata": {},
   "outputs": [
    {
     "name": "stdout",
     "output_type": "stream",
     "text": [
      "Missing values:\n",
      "eventDate                  0\n",
      "year                       0\n",
      "month                      0\n",
      "day                        0\n",
      "habitat                    0\n",
      "countryCode                0\n",
      "scientificName             0\n",
      "kingdom                    0\n",
      "phylum                     0\n",
      "class                      0\n",
      "order                      0\n",
      "family                   176\n",
      "genus                      0\n",
      "specificEpithet            0\n",
      "hasCoordinate              0\n",
      "species                    0\n",
      "iucnRedListCategory        0\n",
      "substrate                399\n",
      "latitude                   0\n",
      "longitude                  0\n",
      "coorUncert                14\n",
      "observationID              0\n",
      "region                    70\n",
      "district                 107\n",
      "filename                   0\n",
      "category_id                0\n",
      "metaSubstrate              0\n",
      "poisonous                  0\n",
      "elevation                 97\n",
      "landcover                103\n",
      "biogeographicalRegion    151\n",
      "dtype: int64\n"
     ]
    }
   ],
   "source": [
    "print(f\"Missing values:\\n{df_train.isnull().sum()}\")"
   ]
  },
  {
   "cell_type": "code",
   "execution_count": 153,
   "id": "e1d57dc3-d6c4-4df8-bb23-07645a74c91d",
   "metadata": {},
   "outputs": [
    {
     "data": {
      "text/plain": [
       "dtype('O')"
      ]
     },
     "execution_count": 153,
     "metadata": {},
     "output_type": "execute_result"
    }
   ],
   "source": [
    "# // handling family column in the data \n",
    "df_train['family'].dtype"
   ]
  },
  {
   "cell_type": "code",
   "execution_count": 154,
   "id": "fdad097c-4e2f-43c6-bd0e-f8509b79e733",
   "metadata": {},
   "outputs": [
    {
     "data": {
      "text/plain": [
       "364"
      ]
     },
     "execution_count": 154,
     "metadata": {},
     "output_type": "execute_result"
    }
   ],
   "source": [
    "df_train['family'].nunique()"
   ]
  },
  {
   "cell_type": "code",
   "execution_count": 155,
   "id": "53a52b67-3470-4e31-8c67-4d629a81b9e0",
   "metadata": {},
   "outputs": [
    {
     "data": {
      "text/plain": [
       "array([nan, 'Stemonitidaceae', 'Ascobolaceae', 'Arthoniaceae',\n",
       "       'Lophiostomataceae', 'Coryneaceae', 'Collemataceae',\n",
       "       'Strangosporaceae', 'Phyllostictaceae', 'Cladoniaceae',\n",
       "       'Teloschistaceae', 'Melanommataceae', 'Rhytismataceae',\n",
       "       'Chaetomellaceae', 'Peronosporaceae', 'Physciaceae',\n",
       "       'Acrospermaceae', 'Oliveoniaceae', 'Ploettnerulaceae',\n",
       "       'Ustilaginaceae', 'Massariaceae', 'Didymellaceae',\n",
       "       'Chaetosphaeriaceae', 'Physaraceae', 'Erysiphaceae',\n",
       "       'Psathyrellaceae', 'Russulaceae', 'Sporocadaceae', 'Pucciniaceae',\n",
       "       'Entylomataceae', 'Irpicaceae', 'Venturiaceae', 'Melampsoraceae',\n",
       "       'Cudoniaceae', 'Hymenogastraceae', 'Stereopsidaceae',\n",
       "       'Cortinariaceae', 'Cribrariaceae', 'Ceratostomataceae',\n",
       "       'Bionectriaceae', 'Bartaliniaceae', 'Hygrophoraceae',\n",
       "       'Hypocreaceae', 'Nectriaceae', 'Pyronemataceae',\n",
       "       'Echinodontiaceae', 'Parmeliaceae', 'Mycenaceae', 'Exidiaceae',\n",
       "       'Bolbitiaceae', 'Agaricaceae', 'Entolomataceae', 'Pleurotaceae',\n",
       "       'Sistotremataceae', 'Atheliaceae', 'Filobasidiaceae',\n",
       "       'Fomitopsidaceae', 'Botryobasidiaceae', 'Inocybaceae',\n",
       "       'Tricholomataceae', 'Ophiocordycipitaceae', 'Pezizaceae',\n",
       "       'Mycocaliciaceae', 'Clypeosphaeriaceae', 'Cerinomycetaceae',\n",
       "       'Thelephoraceae', 'Tubariaceae', 'Pseudombrophilaceae',\n",
       "       'Mollisiaceae', 'Typhulaceae', 'Hyaloscyphaceae', 'Stereaceae',\n",
       "       'Physalacriaceae', 'Paxillaceae', 'Geoglossaceae',\n",
       "       'Rhizopogonaceae', 'Rutstroemiaceae', 'Lachnaceae', 'Pluteaceae',\n",
       "       'Phacidiaceae', 'Valsaceae', 'Pezizellaceae', 'Hyphodermataceae',\n",
       "       'Helvellaceae', 'Meruliaceae', 'Lycoperdaceae', 'Lentariaceae',\n",
       "       'Crassisporiaceae', 'Tubiferaceae', 'Sclerotiniaceae',\n",
       "       'Urocystidaceae', 'Lentitheciaceae', 'Tuberaceae', 'Gomphaceae',\n",
       "       'Diatrypaceae', 'Nitschkiaceae', 'Hymenochaetaceae',\n",
       "       'Steccherinaceae', 'Amanitaceae', 'Hypoxylaceae', 'Orbiliaceae',\n",
       "       'Omphalotaceae', 'Strophariaceae', 'Clavariadelphaceae',\n",
       "       'Ramalinaceae', 'Didymiaceae', 'Bankeraceae', 'Scoliciosporaceae',\n",
       "       'Calostomataceae', 'Melanotaeniaceae', 'Boletaceae', 'Hydnaceae',\n",
       "       'Diplocystidiaceae', 'Clavariaceae', 'Lyophyllaceae',\n",
       "       'Phaeosphaeriaceae', 'Helotiaceae', 'Tulasnellaceae',\n",
       "       'Helminthosphaeriaceae', 'Rhizodiscinaceae', 'Caliciaceae',\n",
       "       'Graphidaceae', 'Acarosporaceae', 'Stictidaceae', 'Thelocarpaceae',\n",
       "       'Candelariaceae', 'Byssolomataceae', 'Lecanographaceae',\n",
       "       'Lecideaceae', 'Microthyriaceae', 'Gelatinodiscaceae',\n",
       "       'Xylariaceae', 'Mycosphaerellaceae', 'Podosporaceae',\n",
       "       'Dermateaceae', 'Aspergillaceae', 'Squamanitaceae',\n",
       "       'Pleosporaceae', 'Verrucariaceae', 'Godroniaceae',\n",
       "       'Phyllachoraceae', 'Monoblastiaceae', 'Lichenoconiaceae',\n",
       "       'Megasporaceae', 'Diaporthaceae', 'Botryosphaeriaceae',\n",
       "       'Ceratobasidiaceae', 'Gnomoniaceae', 'Calosphaeriaceae',\n",
       "       'Corticiaceae', 'Boliniaceae', 'Leptodontidiaceae',\n",
       "       'Microbotryaceae', 'Lentomitellaceae', 'Xenospadicoidaceae',\n",
       "       'Coniophoraceae', 'Lecanoraceae', 'Lasiosphaeriaceae',\n",
       "       'Cenangiaceae', 'Tympanidaceae', 'Rickenellaceae',\n",
       "       'Cordycipitaceae', 'Cordieritidaceae', 'Polycoccaceae',\n",
       "       'Arcyriaceae', 'Pseudoperisporiaceae', 'Umbilicariaceae',\n",
       "       'Trichiaceae', 'Pertusariaceae', 'Asterosporiaceae',\n",
       "       'Leptosphaeriaceae', 'Mucoraceae', 'Ochrolechiaceae',\n",
       "       'Taphrinaceae', 'Albuginaceae', 'Glomerellaceae', 'Exobasidiaceae',\n",
       "       'Chorioactidaceae', 'Geastraceae', 'Polyporaceae',\n",
       "       'Sclerodermataceae', 'Amylocorticiaceae', 'Roccellaceae',\n",
       "       'Cystostereaceae', 'Hydnangiaceae', 'Colacogloeaceae',\n",
       "       'Cucurbitariaceae', 'Sirobasidiaceae', 'Drepanopezizaceae',\n",
       "       'Trichiidae', 'Dacrymycetaceae', 'Cryptococcaceae',\n",
       "       'Entomophthoraceae', 'Peniophoraceae', 'Sareaceae',\n",
       "       'Fibroporiaceae', 'Graphostromataceae', 'Marasmiaceae',\n",
       "       'Varicellariaceae', 'Mytilinidiaceae', 'Incrustoporiaceae',\n",
       "       'Amphisphaeriaceae', 'Erythrogloeaceae', 'Torulaceae',\n",
       "       'Anthracoideaceae', 'Stereocaulaceae', 'Gloniaceae',\n",
       "       'Gloeophyllaceae', 'Trapeliaceae', 'Periconiaceae', 'Hysteriaceae',\n",
       "       'Delitschiaceae', 'Neoschizotheciaceae', 'Schizoporaceae',\n",
       "       'Otideaceae', 'Onygenaceae', 'Phleogenaceae', 'Micropeltidaceae',\n",
       "       'Tremellaceae', 'Phallaceae', 'Baeomycetaceae', 'Doassansiaceae',\n",
       "       'Oxyporaceae', 'Tubeufiaceae', 'Ascocorticiaceae',\n",
       "       'Rhizocarpaceae', 'Peltigeraceae', 'Hyphodontiaceae',\n",
       "       'Radulomycetaceae', 'Aphanopsidaceae', 'Mniaeciaceae', 'Liceaceae',\n",
       "       'Macrodiplodiopsidaceae', 'Dothideaceae', 'Discinellaceae',\n",
       "       'Solenopeziaceae', 'Montagnulaceae', 'Clavicipitaceae',\n",
       "       'Stephanosporaceae', 'Chlorociboriaceae', 'Tricladiaceae',\n",
       "       'Pilobolaceae', 'Schaereriaceae', 'Vibrisseaceae',\n",
       "       'Glomosporiaceae', 'Melanconidaceae', 'Vialaeaceae',\n",
       "       'Arachnopezizaceae', 'Phycomycetaceae', 'Requienellaceae',\n",
       "       'Phaeotrichaceae', 'Vezdaeaceae', 'Coniocybaceae', 'Hyaloriaceae',\n",
       "       'Laurobasidiaceae', 'Cladosporiaceae', 'Hyphodiscaceae',\n",
       "       'Massarinaceae', 'Amplistromataceae', 'Marthamycetaceae',\n",
       "       'Coleosporiaceae', 'Pucciniastraceae', 'Xenasmataceae',\n",
       "       'Scortechiniaceae', 'Elsinoaceae', 'Plectosphaerellaceae',\n",
       "       'Crepidotaceae', 'Pterulaceae', 'Thyridiaceae', 'Dacryobolaceae',\n",
       "       'Diademaceae', 'Hysterangiaceae', 'Phanerochaetaceae',\n",
       "       'Apiosporaceae', 'Dianemataceae', 'Glomeraceae', 'Naetrocymbaceae',\n",
       "       'Agyriaceae', 'Sydowiellaceae', 'Elaphomycetaceae',\n",
       "       'Herpotrichiellaceae', 'Coniochaetaceae', 'Discosiaceae',\n",
       "       'Kirschsteiniotheliaceae', 'Catillariaceae', 'Fuscideaceae',\n",
       "       'Stachybotryaceae', 'Pleomassariaceae', 'Laboulbeniaceae',\n",
       "       'Sordariaceae', 'Cyphellaceae', 'Nephromataceae',\n",
       "       'Hygrophoropsidaceae', 'Cronartiaceae', 'Didymosphaeriaceae',\n",
       "       'Micraspidaceae', 'Repetobasidiaceae', 'Porotheleaceae',\n",
       "       'Cystobasidiaceae', 'Tranzscheliaceae', 'Xanthopyreniaceae',\n",
       "       'Synchytriaceae', 'Ascodesmidaceae', 'Amniculicolaceae',\n",
       "       'Auriculariaceae', 'Barbatosphaeriaceae', 'Lindgomycetaceae',\n",
       "       'Niaceae', 'Schizotheciaceae', 'Sebacinaceae', 'Calloriaceae',\n",
       "       'Suillaceae', 'Eocronartiaceae', 'Microascaceae', 'Pyrenulaceae',\n",
       "       'Pseudoclitocybaceae', 'Hyponectriaceae', 'Polystomellaceae',\n",
       "       'Hydnodontaceae', 'Asterinaceae', 'Ceratocystidaceae',\n",
       "       'Cylindriaceae', 'Sparassidaceae', 'Bondarzewiaceae',\n",
       "       'Hamatocanthoscyphaceae', 'Naviculisporaceae', 'Teichosporaceae',\n",
       "       'Halosphaeriaceae', 'Thelebolaceae', 'Annulatascaceae',\n",
       "       'Celotheliaceae', 'Sarrameanaceae', 'Pseudohalonectriaceae',\n",
       "       'Physodermataceae', 'Chaetomiaceae', 'Phlyctidaceae',\n",
       "       'Acrogenosporaceae', 'Magnaporthaceae', 'Cephalothecaceae',\n",
       "       'Helicocephalidaceae', 'Pulvinulaceae', 'Arctomiaceae',\n",
       "       'Vuilleminiaceae', 'Platygloeaceae', 'Auriscalpiaceae',\n",
       "       'Lichinaceae', 'Phragmoxenidiaceae', 'Sarcoscyphaceae',\n",
       "       'Leprocaulaceae', 'Gomphidiaceae', 'Ophioparmaceae',\n",
       "       'Saccotheciaceae', 'Bulleraceae', 'Vermiculariopsiellaceae',\n",
       "       'Lopadostomataceae', 'Phragmidiaceae', 'Podoscyphaceae',\n",
       "       'Callistosporiaceae', 'Serpulaceae', 'Sporormiaceae',\n",
       "       'Rhizopodaceae', 'Niessliaceae', 'Tarzettaceae', 'Jobellisiaceae',\n",
       "       'Gomphillaceae'], dtype=object)"
      ]
     },
     "execution_count": 155,
     "metadata": {},
     "output_type": "execute_result"
    }
   ],
   "source": [
    "df_train['family'].unique()"
   ]
  },
  {
   "cell_type": "code",
   "execution_count": 156,
   "id": "0a4e36ad-98cc-478c-b802-b098990130d9",
   "metadata": {},
   "outputs": [],
   "source": [
    "# // filling the missig values firstly based on order and genus combination\n",
    "# Create mapping from (order, genus) pairs to most common family\n",
    "order_genus_to_family = {}\n",
    "for order in df_train['order'].unique():\n",
    "    for genus in df_train[df_train['order'] == order]['genus'].unique():\n",
    "        if pd.isna(order) or pd.isna(genus):\n",
    "            continue\n",
    "        \n",
    "        families = df_train[(df_train['order'] == order) & \n",
    "                           (df_train['genus'] == genus)]['family'].dropna()\n",
    "        \n",
    "        if len(families) > 0:\n",
    "            most_common_family = families.value_counts().idxmax()\n",
    "            order_genus_to_family[(order, genus)] = most_common_family\n",
    "\n",
    "# Fill missing family values based on order and genus combination\n",
    "for idx in df_train[df_train['family'].isna()].index:\n",
    "    order = df_train.loc[idx, 'order']\n",
    "    genus = df_train.loc[idx, 'genus']\n",
    "    \n",
    "    if (order, genus) in order_genus_to_family:\n",
    "        df_train.loc[idx, 'family'] = order_genus_to_family[(order, genus)]"
   ]
  },
  {
   "cell_type": "code",
   "execution_count": 157,
   "id": "d578e2b8-96fc-4c2e-80db-82bb7ed7bdd6",
   "metadata": {},
   "outputs": [
    {
     "data": {
      "text/plain": [
       "176"
      ]
     },
     "execution_count": 157,
     "metadata": {},
     "output_type": "execute_result"
    }
   ],
   "source": [
    "df_train['family'].isna().sum()"
   ]
  },
  {
   "cell_type": "code",
   "execution_count": 158,
   "id": "c64194e9-7f27-4e8b-91ee-dc159fc1ee9c",
   "metadata": {},
   "outputs": [],
   "source": [
    "# For remaining missing families, try using genus alone\n",
    "genus_to_family = {}\n",
    "for genus in df_train['genus'].unique():\n",
    "    if pd.isna(genus):\n",
    "        continue\n",
    "    \n",
    "    families = df_train[df_train['genus'] == genus]['family'].dropna()\n",
    "    \n",
    "    if len(families) > 0:\n",
    "        most_common_family = families.value_counts().idxmax()\n",
    "        genus_to_family[genus] = most_common_family\n",
    "\n",
    "# Fill missing family values based on genus\n",
    "for idx in df_train[df_train['family'].isna()].index:\n",
    "    genus = df_train.loc[idx, 'genus']\n",
    "    \n",
    "    if genus in genus_to_family:\n",
    "        df_train.loc[idx, 'family'] = genus_to_family[genus]"
   ]
  },
  {
   "cell_type": "code",
   "execution_count": 159,
   "id": "c2a12fe7-5e90-4576-836f-0170fa20dbe4",
   "metadata": {},
   "outputs": [
    {
     "data": {
      "text/plain": [
       "176"
      ]
     },
     "execution_count": 159,
     "metadata": {},
     "output_type": "execute_result"
    }
   ],
   "source": [
    "df_train['family'].isna().sum()"
   ]
  },
  {
   "cell_type": "code",
   "execution_count": 160,
   "id": "143a12c5-f4f4-41f7-8f3f-3fd47beb2c48",
   "metadata": {},
   "outputs": [
    {
     "data": {
      "text/html": [
       "<div>\n",
       "<style scoped>\n",
       "    .dataframe tbody tr th:only-of-type {\n",
       "        vertical-align: middle;\n",
       "    }\n",
       "\n",
       "    .dataframe tbody tr th {\n",
       "        vertical-align: top;\n",
       "    }\n",
       "\n",
       "    .dataframe thead th {\n",
       "        text-align: right;\n",
       "    }\n",
       "</style>\n",
       "<table border=\"1\" class=\"dataframe\">\n",
       "  <thead>\n",
       "    <tr style=\"text-align: right;\">\n",
       "      <th></th>\n",
       "      <th>family</th>\n",
       "      <th>class</th>\n",
       "      <th>phylum</th>\n",
       "      <th>kingdom</th>\n",
       "      <th>scientificName</th>\n",
       "      <th>order</th>\n",
       "      <th>genus</th>\n",
       "    </tr>\n",
       "  </thead>\n",
       "  <tbody>\n",
       "    <tr>\n",
       "      <th>0</th>\n",
       "      <td>NaN</td>\n",
       "      <td>Eurotiomycetes</td>\n",
       "      <td>Ascomycota</td>\n",
       "      <td>Fungi</td>\n",
       "      <td>Xylohypha ferruginosa (Corda) S.Hughes</td>\n",
       "      <td>Chaetothyriales</td>\n",
       "      <td>Xylohypha</td>\n",
       "    </tr>\n",
       "    <tr>\n",
       "      <th>45</th>\n",
       "      <td>NaN</td>\n",
       "      <td>Leotiomycetes</td>\n",
       "      <td>Ascomycota</td>\n",
       "      <td>Fungi</td>\n",
       "      <td>Coremiella cubispora (Berk. &amp; M.A.Curtis) M.B....</td>\n",
       "      <td>Helotiales</td>\n",
       "      <td>Coremiella</td>\n",
       "    </tr>\n",
       "    <tr>\n",
       "      <th>135</th>\n",
       "      <td>NaN</td>\n",
       "      <td>Agaricomycetes</td>\n",
       "      <td>Basidiomycota</td>\n",
       "      <td>Fungi</td>\n",
       "      <td>Sertulicium niveocremeum (Höhn. &amp; Litsch.) Spi...</td>\n",
       "      <td>Trechisporales</td>\n",
       "      <td>Sertulicium</td>\n",
       "    </tr>\n",
       "    <tr>\n",
       "      <th>136</th>\n",
       "      <td>NaN</td>\n",
       "      <td>Agaricomycetes</td>\n",
       "      <td>Basidiomycota</td>\n",
       "      <td>Fungi</td>\n",
       "      <td>Sertulicium niveocremeum (Höhn. &amp; Litsch.) Spi...</td>\n",
       "      <td>Trechisporales</td>\n",
       "      <td>Sertulicium</td>\n",
       "    </tr>\n",
       "    <tr>\n",
       "      <th>362</th>\n",
       "      <td>NaN</td>\n",
       "      <td>Agaricomycetes</td>\n",
       "      <td>Basidiomycota</td>\n",
       "      <td>Fungi</td>\n",
       "      <td>Blasiphalia pseudogrisella (A.H.Sm.) Redhead</td>\n",
       "      <td>Agaricales</td>\n",
       "      <td>Blasiphalia</td>\n",
       "    </tr>\n",
       "    <tr>\n",
       "      <th>...</th>\n",
       "      <td>...</td>\n",
       "      <td>...</td>\n",
       "      <td>...</td>\n",
       "      <td>...</td>\n",
       "      <td>...</td>\n",
       "      <td>...</td>\n",
       "      <td>...</td>\n",
       "    </tr>\n",
       "    <tr>\n",
       "      <th>7746</th>\n",
       "      <td>NaN</td>\n",
       "      <td>Sordariomycetes</td>\n",
       "      <td>Ascomycota</td>\n",
       "      <td>Fungi</td>\n",
       "      <td>Stilbella fimetaria (Pers.) Lindau</td>\n",
       "      <td>Hypocreales</td>\n",
       "      <td>Stilbella</td>\n",
       "    </tr>\n",
       "    <tr>\n",
       "      <th>7747</th>\n",
       "      <td>NaN</td>\n",
       "      <td>Sordariomycetes</td>\n",
       "      <td>Ascomycota</td>\n",
       "      <td>Fungi</td>\n",
       "      <td>Stilbella fimetaria (Pers.) Lindau</td>\n",
       "      <td>Hypocreales</td>\n",
       "      <td>Stilbella</td>\n",
       "    </tr>\n",
       "    <tr>\n",
       "      <th>7748</th>\n",
       "      <td>NaN</td>\n",
       "      <td>Sordariomycetes</td>\n",
       "      <td>Ascomycota</td>\n",
       "      <td>Fungi</td>\n",
       "      <td>Stilbella fimetaria (Pers.) Lindau</td>\n",
       "      <td>Hypocreales</td>\n",
       "      <td>Stilbella</td>\n",
       "    </tr>\n",
       "    <tr>\n",
       "      <th>7814</th>\n",
       "      <td>NaN</td>\n",
       "      <td>Sordariomycetes</td>\n",
       "      <td>Ascomycota</td>\n",
       "      <td>Fungi</td>\n",
       "      <td>Plagiosphaera immersa (Trail) Petr.</td>\n",
       "      <td>Sordariales</td>\n",
       "      <td>Plagiosphaera</td>\n",
       "    </tr>\n",
       "    <tr>\n",
       "      <th>7815</th>\n",
       "      <td>NaN</td>\n",
       "      <td>Sordariomycetes</td>\n",
       "      <td>Ascomycota</td>\n",
       "      <td>Fungi</td>\n",
       "      <td>Plagiosphaera immersa (Trail) Petr.</td>\n",
       "      <td>Sordariales</td>\n",
       "      <td>Plagiosphaera</td>\n",
       "    </tr>\n",
       "  </tbody>\n",
       "</table>\n",
       "<p>176 rows × 7 columns</p>\n",
       "</div>"
      ],
      "text/plain": [
       "     family            class         phylum kingdom  \\\n",
       "0       NaN   Eurotiomycetes     Ascomycota   Fungi   \n",
       "45      NaN    Leotiomycetes     Ascomycota   Fungi   \n",
       "135     NaN   Agaricomycetes  Basidiomycota   Fungi   \n",
       "136     NaN   Agaricomycetes  Basidiomycota   Fungi   \n",
       "362     NaN   Agaricomycetes  Basidiomycota   Fungi   \n",
       "...     ...              ...            ...     ...   \n",
       "7746    NaN  Sordariomycetes     Ascomycota   Fungi   \n",
       "7747    NaN  Sordariomycetes     Ascomycota   Fungi   \n",
       "7748    NaN  Sordariomycetes     Ascomycota   Fungi   \n",
       "7814    NaN  Sordariomycetes     Ascomycota   Fungi   \n",
       "7815    NaN  Sordariomycetes     Ascomycota   Fungi   \n",
       "\n",
       "                                         scientificName            order  \\\n",
       "0                Xylohypha ferruginosa (Corda) S.Hughes  Chaetothyriales   \n",
       "45    Coremiella cubispora (Berk. & M.A.Curtis) M.B....       Helotiales   \n",
       "135   Sertulicium niveocremeum (Höhn. & Litsch.) Spi...   Trechisporales   \n",
       "136   Sertulicium niveocremeum (Höhn. & Litsch.) Spi...   Trechisporales   \n",
       "362        Blasiphalia pseudogrisella (A.H.Sm.) Redhead       Agaricales   \n",
       "...                                                 ...              ...   \n",
       "7746                 Stilbella fimetaria (Pers.) Lindau      Hypocreales   \n",
       "7747                 Stilbella fimetaria (Pers.) Lindau      Hypocreales   \n",
       "7748                 Stilbella fimetaria (Pers.) Lindau      Hypocreales   \n",
       "7814                Plagiosphaera immersa (Trail) Petr.      Sordariales   \n",
       "7815                Plagiosphaera immersa (Trail) Petr.      Sordariales   \n",
       "\n",
       "              genus  \n",
       "0         Xylohypha  \n",
       "45       Coremiella  \n",
       "135     Sertulicium  \n",
       "136     Sertulicium  \n",
       "362     Blasiphalia  \n",
       "...             ...  \n",
       "7746      Stilbella  \n",
       "7747      Stilbella  \n",
       "7748      Stilbella  \n",
       "7814  Plagiosphaera  \n",
       "7815  Plagiosphaera  \n",
       "\n",
       "[176 rows x 7 columns]"
      ]
     },
     "execution_count": 160,
     "metadata": {},
     "output_type": "execute_result"
    }
   ],
   "source": [
    "df_train[df_train['family'].isna()][['family','class','phylum','kingdom','scientificName', 'order','genus']]"
   ]
  },
  {
   "cell_type": "code",
   "execution_count": 161,
   "id": "3329d6d3-5525-4a0a-8bd0-0a689ebd231f",
   "metadata": {},
   "outputs": [
    {
     "data": {
      "text/html": [
       "<div>\n",
       "<style scoped>\n",
       "    .dataframe tbody tr th:only-of-type {\n",
       "        vertical-align: middle;\n",
       "    }\n",
       "\n",
       "    .dataframe tbody tr th {\n",
       "        vertical-align: top;\n",
       "    }\n",
       "\n",
       "    .dataframe thead th {\n",
       "        text-align: right;\n",
       "    }\n",
       "</style>\n",
       "<table border=\"1\" class=\"dataframe\">\n",
       "  <thead>\n",
       "    <tr style=\"text-align: right;\">\n",
       "      <th></th>\n",
       "      <th>family</th>\n",
       "      <th>class</th>\n",
       "      <th>phylum</th>\n",
       "      <th>kingdom</th>\n",
       "      <th>scientificName</th>\n",
       "      <th>order</th>\n",
       "      <th>genus</th>\n",
       "    </tr>\n",
       "  </thead>\n",
       "  <tbody>\n",
       "    <tr>\n",
       "      <th>6439</th>\n",
       "      <td>Agaricaceae</td>\n",
       "      <td>Agaricomycetes</td>\n",
       "      <td>Basidiomycota</td>\n",
       "      <td>Fungi</td>\n",
       "      <td>Lepiota cingulum Kelderman</td>\n",
       "      <td>Agaricales</td>\n",
       "      <td>Lepiota</td>\n",
       "    </tr>\n",
       "    <tr>\n",
       "      <th>690</th>\n",
       "      <td>Lentomitellaceae</td>\n",
       "      <td>Sordariomycetes</td>\n",
       "      <td>Ascomycota</td>\n",
       "      <td>Fungi</td>\n",
       "      <td>Lentomitella cirrhosa (Pers.) Réblová</td>\n",
       "      <td>Hypocreales</td>\n",
       "      <td>Lentomitella</td>\n",
       "    </tr>\n",
       "    <tr>\n",
       "      <th>2777</th>\n",
       "      <td>Agyriaceae</td>\n",
       "      <td>Lecanoromycetes</td>\n",
       "      <td>Ascomycota</td>\n",
       "      <td>Fungi</td>\n",
       "      <td>Agyrium rufum (Pers.) Fr.</td>\n",
       "      <td>Pertusariales</td>\n",
       "      <td>Agyrium</td>\n",
       "    </tr>\n",
       "    <tr>\n",
       "      <th>1447</th>\n",
       "      <td>Marasmiaceae</td>\n",
       "      <td>Agaricomycetes</td>\n",
       "      <td>Basidiomycota</td>\n",
       "      <td>Fungi</td>\n",
       "      <td>Crinipellis pedemontana Vizzini, Antonín &amp; Noo...</td>\n",
       "      <td>Agaricales</td>\n",
       "      <td>Crinipellis</td>\n",
       "    </tr>\n",
       "    <tr>\n",
       "      <th>3270</th>\n",
       "      <td>Entolomataceae</td>\n",
       "      <td>Agaricomycetes</td>\n",
       "      <td>Basidiomycota</td>\n",
       "      <td>Fungi</td>\n",
       "      <td>Entoloma pygmaeopapillatum Arnolds &amp; Winterh.</td>\n",
       "      <td>Agaricales</td>\n",
       "      <td>Entoloma</td>\n",
       "    </tr>\n",
       "    <tr>\n",
       "      <th>7672</th>\n",
       "      <td>Mycosphaerellaceae</td>\n",
       "      <td>Dothideomycetes</td>\n",
       "      <td>Ascomycota</td>\n",
       "      <td>Fungi</td>\n",
       "      <td>Mycosphaerella ligustri (J.Kickx f.) Lindau</td>\n",
       "      <td>Mycosphaerellales</td>\n",
       "      <td>Mycosphaerella</td>\n",
       "    </tr>\n",
       "    <tr>\n",
       "      <th>2769</th>\n",
       "      <td>Pucciniaceae</td>\n",
       "      <td>Pucciniomycetes</td>\n",
       "      <td>Basidiomycota</td>\n",
       "      <td>Fungi</td>\n",
       "      <td>Puccinia cnici-oleracei Pers.</td>\n",
       "      <td>Pucciniales</td>\n",
       "      <td>Puccinia</td>\n",
       "    </tr>\n",
       "    <tr>\n",
       "      <th>6130</th>\n",
       "      <td>Xylariaceae</td>\n",
       "      <td>Sordariomycetes</td>\n",
       "      <td>Ascomycota</td>\n",
       "      <td>Fungi</td>\n",
       "      <td>Nemania carbonacea Pouzar</td>\n",
       "      <td>Xylariales</td>\n",
       "      <td>Nemania</td>\n",
       "    </tr>\n",
       "    <tr>\n",
       "      <th>5018</th>\n",
       "      <td>Byssolomataceae</td>\n",
       "      <td>Lecanoromycetes</td>\n",
       "      <td>Ascomycota</td>\n",
       "      <td>Fungi</td>\n",
       "      <td>Fellhanera subtilis (Vĕzda) Diederich &amp; Sérus.</td>\n",
       "      <td>Lecanorales</td>\n",
       "      <td>Fellhanera</td>\n",
       "    </tr>\n",
       "    <tr>\n",
       "      <th>4353</th>\n",
       "      <td>Dianemataceae</td>\n",
       "      <td>Myxomycetes</td>\n",
       "      <td>Mycetozoa</td>\n",
       "      <td>Protozoa</td>\n",
       "      <td>Calomyxa metallica (Berk.) Nieuwl., 1916</td>\n",
       "      <td>Trichiales</td>\n",
       "      <td>Calomyxa</td>\n",
       "    </tr>\n",
       "    <tr>\n",
       "      <th>5376</th>\n",
       "      <td>Cortinariaceae</td>\n",
       "      <td>Agaricomycetes</td>\n",
       "      <td>Basidiomycota</td>\n",
       "      <td>Fungi</td>\n",
       "      <td>Cortinarius roseonudipes Rob.Henry &amp; Moënne-Locc.</td>\n",
       "      <td>Agaricales</td>\n",
       "      <td>Cortinarius</td>\n",
       "    </tr>\n",
       "    <tr>\n",
       "      <th>1107</th>\n",
       "      <td>Entomophthoraceae</td>\n",
       "      <td>Entomophthoromycetes</td>\n",
       "      <td>Entomophthoromycota</td>\n",
       "      <td>Fungi</td>\n",
       "      <td>Entomophthora culicis (A.Braun) Fresen.</td>\n",
       "      <td>Entomophthorales</td>\n",
       "      <td>Entomophthora</td>\n",
       "    </tr>\n",
       "    <tr>\n",
       "      <th>3549</th>\n",
       "      <td>Hypocreaceae</td>\n",
       "      <td>Sordariomycetes</td>\n",
       "      <td>Ascomycota</td>\n",
       "      <td>Fungi</td>\n",
       "      <td>Mycogone rosea Link</td>\n",
       "      <td>Hypocreales</td>\n",
       "      <td>Mycogone</td>\n",
       "    </tr>\n",
       "    <tr>\n",
       "      <th>644</th>\n",
       "      <td>Botryosphaeriaceae</td>\n",
       "      <td>Dothideomycetes</td>\n",
       "      <td>Ascomycota</td>\n",
       "      <td>Fungi</td>\n",
       "      <td>Diplodia sarothamni Oudem.</td>\n",
       "      <td>Botryosphaeriales</td>\n",
       "      <td>Diplodia</td>\n",
       "    </tr>\n",
       "    <tr>\n",
       "      <th>2114</th>\n",
       "      <td>Entolomataceae</td>\n",
       "      <td>Agaricomycetes</td>\n",
       "      <td>Basidiomycota</td>\n",
       "      <td>Fungi</td>\n",
       "      <td>Rhodocybe tugrulii Vizzini, Sesli, T.J.Baroni,...</td>\n",
       "      <td>Agaricales</td>\n",
       "      <td>Rhodocybe</td>\n",
       "    </tr>\n",
       "    <tr>\n",
       "      <th>4253</th>\n",
       "      <td>Dermateaceae</td>\n",
       "      <td>Leotiomycetes</td>\n",
       "      <td>Ascomycota</td>\n",
       "      <td>Fungi</td>\n",
       "      <td>Pezicula ocellata (Pers.) Seaver</td>\n",
       "      <td>Helotiales</td>\n",
       "      <td>Pezicula</td>\n",
       "    </tr>\n",
       "    <tr>\n",
       "      <th>5523</th>\n",
       "      <td>Hymenogastraceae</td>\n",
       "      <td>Agaricomycetes</td>\n",
       "      <td>Basidiomycota</td>\n",
       "      <td>Fungi</td>\n",
       "      <td>Hebeloma pseudoamarescens (Kühner &amp; Romagn.) P...</td>\n",
       "      <td>Agaricales</td>\n",
       "      <td>Hebeloma</td>\n",
       "    </tr>\n",
       "    <tr>\n",
       "      <th>2550</th>\n",
       "      <td>Russulaceae</td>\n",
       "      <td>Agaricomycetes</td>\n",
       "      <td>Basidiomycota</td>\n",
       "      <td>Fungi</td>\n",
       "      <td>Russula helodes Melzer</td>\n",
       "      <td>Russulales</td>\n",
       "      <td>Russula</td>\n",
       "    </tr>\n",
       "    <tr>\n",
       "      <th>7097</th>\n",
       "      <td>Inocybaceae</td>\n",
       "      <td>Agaricomycetes</td>\n",
       "      <td>Basidiomycota</td>\n",
       "      <td>Fungi</td>\n",
       "      <td>Inocybe albovelutipes Stangl</td>\n",
       "      <td>Agaricales</td>\n",
       "      <td>Inocybe</td>\n",
       "    </tr>\n",
       "    <tr>\n",
       "      <th>2751</th>\n",
       "      <td>Pyronemataceae</td>\n",
       "      <td>Pezizomycetes</td>\n",
       "      <td>Ascomycota</td>\n",
       "      <td>Fungi</td>\n",
       "      <td>Trichophaea abundans (P.Karst.) Boud.</td>\n",
       "      <td>Pezizales</td>\n",
       "      <td>Trichophaea</td>\n",
       "    </tr>\n",
       "  </tbody>\n",
       "</table>\n",
       "</div>"
      ],
      "text/plain": [
       "                  family                 class               phylum   kingdom  \\\n",
       "6439         Agaricaceae        Agaricomycetes        Basidiomycota     Fungi   \n",
       "690     Lentomitellaceae       Sordariomycetes           Ascomycota     Fungi   \n",
       "2777          Agyriaceae       Lecanoromycetes           Ascomycota     Fungi   \n",
       "1447        Marasmiaceae        Agaricomycetes        Basidiomycota     Fungi   \n",
       "3270      Entolomataceae        Agaricomycetes        Basidiomycota     Fungi   \n",
       "7672  Mycosphaerellaceae       Dothideomycetes           Ascomycota     Fungi   \n",
       "2769        Pucciniaceae       Pucciniomycetes        Basidiomycota     Fungi   \n",
       "6130         Xylariaceae       Sordariomycetes           Ascomycota     Fungi   \n",
       "5018     Byssolomataceae       Lecanoromycetes           Ascomycota     Fungi   \n",
       "4353       Dianemataceae           Myxomycetes            Mycetozoa  Protozoa   \n",
       "5376      Cortinariaceae        Agaricomycetes        Basidiomycota     Fungi   \n",
       "1107   Entomophthoraceae  Entomophthoromycetes  Entomophthoromycota     Fungi   \n",
       "3549        Hypocreaceae       Sordariomycetes           Ascomycota     Fungi   \n",
       "644   Botryosphaeriaceae       Dothideomycetes           Ascomycota     Fungi   \n",
       "2114      Entolomataceae        Agaricomycetes        Basidiomycota     Fungi   \n",
       "4253        Dermateaceae         Leotiomycetes           Ascomycota     Fungi   \n",
       "5523    Hymenogastraceae        Agaricomycetes        Basidiomycota     Fungi   \n",
       "2550         Russulaceae        Agaricomycetes        Basidiomycota     Fungi   \n",
       "7097         Inocybaceae        Agaricomycetes        Basidiomycota     Fungi   \n",
       "2751      Pyronemataceae         Pezizomycetes           Ascomycota     Fungi   \n",
       "\n",
       "                                         scientificName              order  \\\n",
       "6439                         Lepiota cingulum Kelderman         Agaricales   \n",
       "690               Lentomitella cirrhosa (Pers.) Réblová        Hypocreales   \n",
       "2777                          Agyrium rufum (Pers.) Fr.      Pertusariales   \n",
       "1447  Crinipellis pedemontana Vizzini, Antonín & Noo...         Agaricales   \n",
       "3270      Entoloma pygmaeopapillatum Arnolds & Winterh.         Agaricales   \n",
       "7672        Mycosphaerella ligustri (J.Kickx f.) Lindau  Mycosphaerellales   \n",
       "2769                      Puccinia cnici-oleracei Pers.        Pucciniales   \n",
       "6130                          Nemania carbonacea Pouzar         Xylariales   \n",
       "5018     Fellhanera subtilis (Vĕzda) Diederich & Sérus.        Lecanorales   \n",
       "4353           Calomyxa metallica (Berk.) Nieuwl., 1916         Trichiales   \n",
       "5376  Cortinarius roseonudipes Rob.Henry & Moënne-Locc.         Agaricales   \n",
       "1107            Entomophthora culicis (A.Braun) Fresen.   Entomophthorales   \n",
       "3549                                Mycogone rosea Link        Hypocreales   \n",
       "644                          Diplodia sarothamni Oudem.  Botryosphaeriales   \n",
       "2114  Rhodocybe tugrulii Vizzini, Sesli, T.J.Baroni,...         Agaricales   \n",
       "4253                   Pezicula ocellata (Pers.) Seaver         Helotiales   \n",
       "5523  Hebeloma pseudoamarescens (Kühner & Romagn.) P...         Agaricales   \n",
       "2550                             Russula helodes Melzer         Russulales   \n",
       "7097                       Inocybe albovelutipes Stangl         Agaricales   \n",
       "2751              Trichophaea abundans (P.Karst.) Boud.          Pezizales   \n",
       "\n",
       "               genus  \n",
       "6439         Lepiota  \n",
       "690     Lentomitella  \n",
       "2777         Agyrium  \n",
       "1447     Crinipellis  \n",
       "3270        Entoloma  \n",
       "7672  Mycosphaerella  \n",
       "2769        Puccinia  \n",
       "6130         Nemania  \n",
       "5018      Fellhanera  \n",
       "4353        Calomyxa  \n",
       "5376     Cortinarius  \n",
       "1107   Entomophthora  \n",
       "3549        Mycogone  \n",
       "644         Diplodia  \n",
       "2114       Rhodocybe  \n",
       "4253        Pezicula  \n",
       "5523        Hebeloma  \n",
       "2550         Russula  \n",
       "7097         Inocybe  \n",
       "2751     Trichophaea  "
      ]
     },
     "execution_count": 161,
     "metadata": {},
     "output_type": "execute_result"
    }
   ],
   "source": [
    "df_train[['family','class','phylum','kingdom','scientificName', 'order','genus']].sample(20)"
   ]
  },
  {
   "cell_type": "code",
   "execution_count": 162,
   "id": "b5c67291-d495-4947-8db6-115fec404f3f",
   "metadata": {},
   "outputs": [
    {
     "data": {
      "text/plain": [
       "176"
      ]
     },
     "execution_count": 162,
     "metadata": {},
     "output_type": "execute_result"
    }
   ],
   "source": [
    "df_train['family'].isna().sum()"
   ]
  },
  {
   "cell_type": "code",
   "execution_count": 163,
   "id": "f44ea2ce-d40a-4dc3-afcc-847f2400a0f8",
   "metadata": {},
   "outputs": [],
   "source": [
    "# For still missing values, try order\n",
    "order_to_family = {}\n",
    "for order in df_train['order'].unique():\n",
    "    if pd.isna(order):\n",
    "        continue\n",
    "    \n",
    "    families = df_train[df_train['order'] == order]['family'].dropna()\n",
    "    \n",
    "    if len(families) > 0:\n",
    "        most_common_family = families.value_counts().idxmax()\n",
    "        order_to_family[order] = most_common_family\n",
    "\n",
    "# Fill missing family values based on order\n",
    "for idx in df_train[df_train['family'].isna()].index:\n",
    "    order = df_train.loc[idx, 'order']\n",
    "    \n",
    "    if order in order_to_family:\n",
    "        df_train.loc[idx, 'family'] = order_to_family[order]"
   ]
  },
  {
   "cell_type": "code",
   "execution_count": 164,
   "id": "e22b6309-0006-4f0c-a030-d3795d5e9134",
   "metadata": {},
   "outputs": [
    {
     "data": {
      "text/plain": [
       "0"
      ]
     },
     "execution_count": 164,
     "metadata": {},
     "output_type": "execute_result"
    }
   ],
   "source": [
    "df_train['family'].isna().sum()"
   ]
  },
  {
   "cell_type": "code",
   "execution_count": 165,
   "id": "30f80117-6906-4521-ae2b-91f5c82df1ce",
   "metadata": {},
   "outputs": [
    {
     "data": {
      "text/plain": [
       "eventDate                  0\n",
       "year                       0\n",
       "month                      0\n",
       "day                        0\n",
       "habitat                    0\n",
       "countryCode                0\n",
       "scientificName             0\n",
       "kingdom                    0\n",
       "phylum                     0\n",
       "class                      0\n",
       "order                      0\n",
       "family                     0\n",
       "genus                      0\n",
       "specificEpithet            0\n",
       "hasCoordinate              0\n",
       "species                    0\n",
       "iucnRedListCategory        0\n",
       "substrate                399\n",
       "latitude                   0\n",
       "longitude                  0\n",
       "coorUncert                14\n",
       "observationID              0\n",
       "region                    70\n",
       "district                 107\n",
       "filename                   0\n",
       "category_id                0\n",
       "metaSubstrate              0\n",
       "poisonous                  0\n",
       "elevation                 97\n",
       "landcover                103\n",
       "biogeographicalRegion    151\n",
       "dtype: int64"
      ]
     },
     "execution_count": 165,
     "metadata": {},
     "output_type": "execute_result"
    }
   ],
   "source": [
    "df_train.isna().sum()"
   ]
  },
  {
   "cell_type": "code",
   "execution_count": 166,
   "id": "6ebdd83a-8a53-4819-8c8e-e7d997a89197",
   "metadata": {},
   "outputs": [
    {
     "data": {
      "text/plain": [
       "dtype('O')"
      ]
     },
     "execution_count": 166,
     "metadata": {},
     "output_type": "execute_result"
    }
   ],
   "source": [
    "# now treatign substrate column \n",
    "df_train['substrate'].dtype"
   ]
  },
  {
   "cell_type": "code",
   "execution_count": 167,
   "id": "b0d16e36-a37a-4c51-93c0-988802562614",
   "metadata": {},
   "outputs": [
    {
     "data": {
      "text/plain": [
       "30"
      ]
     },
     "execution_count": 167,
     "metadata": {},
     "output_type": "execute_result"
    }
   ],
   "source": [
    "df_train['substrate'].nunique()"
   ]
  },
  {
   "cell_type": "code",
   "execution_count": 168,
   "id": "7388ec09-e4e6-4d77-9bf0-5e790704e600",
   "metadata": {},
   "outputs": [
    {
     "data": {
      "text/plain": [
       "array(['dead wood (including bark)', 'faeces', 'lichens',\n",
       "       'stems of herbs, grass etc', 'mosses', 'bark of living trees',\n",
       "       'leaf or needle litter', 'living stems of herbs, grass etc',\n",
       "       'calcareous stone', 'living leaves',\n",
       "       'dead stems of herbs, grass etc', 'soil', 'living flowers',\n",
       "       'fungi', nan, 'other substrate', 'wood chips or mulch',\n",
       "       'fire spot', 'liverworts', 'siliceous stone', 'cones',\n",
       "       'peat mosses', 'stone', 'building stone (e.g. bricks)',\n",
       "       'wood and roots of living trees', 'fruits', 'mycetozoans',\n",
       "       'insects', 'catkins', 'spiders',\n",
       "       'remains of vertebrates (e.g. feathers and fur)'], dtype=object)"
      ]
     },
     "execution_count": 168,
     "metadata": {},
     "output_type": "execute_result"
    }
   ],
   "source": [
    "df_train['substrate'].unique()"
   ]
  },
  {
   "cell_type": "code",
   "execution_count": 169,
   "id": "0ab6c207-4232-4f45-868d-298bab00aede",
   "metadata": {},
   "outputs": [
    {
     "data": {
      "text/plain": [
       "0"
      ]
     },
     "execution_count": 169,
     "metadata": {},
     "output_type": "execute_result"
    }
   ],
   "source": [
    "df_train['family'].isnull().sum()"
   ]
  },
  {
   "cell_type": "code",
   "execution_count": 170,
   "id": "22eb5633-5b04-46d6-939d-6ad0092ca3ce",
   "metadata": {},
   "outputs": [
    {
     "data": {
      "text/html": [
       "<div>\n",
       "<style scoped>\n",
       "    .dataframe tbody tr th:only-of-type {\n",
       "        vertical-align: middle;\n",
       "    }\n",
       "\n",
       "    .dataframe tbody tr th {\n",
       "        vertical-align: top;\n",
       "    }\n",
       "\n",
       "    .dataframe thead th {\n",
       "        text-align: right;\n",
       "    }\n",
       "</style>\n",
       "<table border=\"1\" class=\"dataframe\">\n",
       "  <thead>\n",
       "    <tr style=\"text-align: right;\">\n",
       "      <th></th>\n",
       "      <th>habitat</th>\n",
       "      <th>substrate</th>\n",
       "    </tr>\n",
       "  </thead>\n",
       "  <tbody>\n",
       "    <tr>\n",
       "      <th>0</th>\n",
       "      <td>Mixed woodland (with coniferous and deciduous ...</td>\n",
       "      <td>dead wood (including bark)</td>\n",
       "    </tr>\n",
       "    <tr>\n",
       "      <th>1</th>\n",
       "      <td>garden</td>\n",
       "      <td>dead wood (including bark)</td>\n",
       "    </tr>\n",
       "    <tr>\n",
       "      <th>2</th>\n",
       "      <td>garden</td>\n",
       "      <td>dead wood (including bark)</td>\n",
       "    </tr>\n",
       "    <tr>\n",
       "      <th>3</th>\n",
       "      <td>garden</td>\n",
       "      <td>dead wood (including bark)</td>\n",
       "    </tr>\n",
       "    <tr>\n",
       "      <th>4</th>\n",
       "      <td>garden</td>\n",
       "      <td>dead wood (including bark)</td>\n",
       "    </tr>\n",
       "    <tr>\n",
       "      <th>5</th>\n",
       "      <td>garden</td>\n",
       "      <td>dead wood (including bark)</td>\n",
       "    </tr>\n",
       "    <tr>\n",
       "      <th>6</th>\n",
       "      <td>garden</td>\n",
       "      <td>dead wood (including bark)</td>\n",
       "    </tr>\n",
       "    <tr>\n",
       "      <th>7</th>\n",
       "      <td>garden</td>\n",
       "      <td>dead wood (including bark)</td>\n",
       "    </tr>\n",
       "    <tr>\n",
       "      <th>8</th>\n",
       "      <td>garden</td>\n",
       "      <td>dead wood (including bark)</td>\n",
       "    </tr>\n",
       "    <tr>\n",
       "      <th>9</th>\n",
       "      <td>garden</td>\n",
       "      <td>dead wood (including bark)</td>\n",
       "    </tr>\n",
       "    <tr>\n",
       "      <th>10</th>\n",
       "      <td>garden</td>\n",
       "      <td>dead wood (including bark)</td>\n",
       "    </tr>\n",
       "    <tr>\n",
       "      <th>11</th>\n",
       "      <td>natural grassland</td>\n",
       "      <td>faeces</td>\n",
       "    </tr>\n",
       "    <tr>\n",
       "      <th>12</th>\n",
       "      <td>park/churchyard</td>\n",
       "      <td>lichens</td>\n",
       "    </tr>\n",
       "    <tr>\n",
       "      <th>13</th>\n",
       "      <td>park/churchyard</td>\n",
       "      <td>lichens</td>\n",
       "    </tr>\n",
       "    <tr>\n",
       "      <th>14</th>\n",
       "      <td>Forest bog</td>\n",
       "      <td>stems of herbs, grass etc</td>\n",
       "    </tr>\n",
       "    <tr>\n",
       "      <th>15</th>\n",
       "      <td>Forest bog</td>\n",
       "      <td>stems of herbs, grass etc</td>\n",
       "    </tr>\n",
       "    <tr>\n",
       "      <th>16</th>\n",
       "      <td>Bog woodland</td>\n",
       "      <td>dead wood (including bark)</td>\n",
       "    </tr>\n",
       "    <tr>\n",
       "      <th>17</th>\n",
       "      <td>dune</td>\n",
       "      <td>mosses</td>\n",
       "    </tr>\n",
       "    <tr>\n",
       "      <th>18</th>\n",
       "      <td>dune</td>\n",
       "      <td>mosses</td>\n",
       "    </tr>\n",
       "    <tr>\n",
       "      <th>19</th>\n",
       "      <td>dune</td>\n",
       "      <td>mosses</td>\n",
       "    </tr>\n",
       "    <tr>\n",
       "      <th>20</th>\n",
       "      <td>dune</td>\n",
       "      <td>mosses</td>\n",
       "    </tr>\n",
       "    <tr>\n",
       "      <th>21</th>\n",
       "      <td>dune</td>\n",
       "      <td>mosses</td>\n",
       "    </tr>\n",
       "    <tr>\n",
       "      <th>22</th>\n",
       "      <td>park/churchyard</td>\n",
       "      <td>bark of living trees</td>\n",
       "    </tr>\n",
       "    <tr>\n",
       "      <th>23</th>\n",
       "      <td>park/churchyard</td>\n",
       "      <td>bark of living trees</td>\n",
       "    </tr>\n",
       "    <tr>\n",
       "      <th>24</th>\n",
       "      <td>Forest bog</td>\n",
       "      <td>leaf or needle litter</td>\n",
       "    </tr>\n",
       "    <tr>\n",
       "      <th>25</th>\n",
       "      <td>Unmanaged deciduous woodland</td>\n",
       "      <td>dead wood (including bark)</td>\n",
       "    </tr>\n",
       "    <tr>\n",
       "      <th>26</th>\n",
       "      <td>Unmanaged deciduous woodland</td>\n",
       "      <td>dead wood (including bark)</td>\n",
       "    </tr>\n",
       "    <tr>\n",
       "      <th>27</th>\n",
       "      <td>roadside</td>\n",
       "      <td>bark of living trees</td>\n",
       "    </tr>\n",
       "    <tr>\n",
       "      <th>28</th>\n",
       "      <td>roadside</td>\n",
       "      <td>bark of living trees</td>\n",
       "    </tr>\n",
       "    <tr>\n",
       "      <th>29</th>\n",
       "      <td>Deciduous woodland</td>\n",
       "      <td>dead wood (including bark)</td>\n",
       "    </tr>\n",
       "  </tbody>\n",
       "</table>\n",
       "</div>"
      ],
      "text/plain": [
       "                                              habitat  \\\n",
       "0   Mixed woodland (with coniferous and deciduous ...   \n",
       "1                                              garden   \n",
       "2                                              garden   \n",
       "3                                              garden   \n",
       "4                                              garden   \n",
       "5                                              garden   \n",
       "6                                              garden   \n",
       "7                                              garden   \n",
       "8                                              garden   \n",
       "9                                              garden   \n",
       "10                                             garden   \n",
       "11                                  natural grassland   \n",
       "12                                    park/churchyard   \n",
       "13                                    park/churchyard   \n",
       "14                                         Forest bog   \n",
       "15                                         Forest bog   \n",
       "16                                       Bog woodland   \n",
       "17                                               dune   \n",
       "18                                               dune   \n",
       "19                                               dune   \n",
       "20                                               dune   \n",
       "21                                               dune   \n",
       "22                                    park/churchyard   \n",
       "23                                    park/churchyard   \n",
       "24                                         Forest bog   \n",
       "25                       Unmanaged deciduous woodland   \n",
       "26                       Unmanaged deciduous woodland   \n",
       "27                                           roadside   \n",
       "28                                           roadside   \n",
       "29                                 Deciduous woodland   \n",
       "\n",
       "                     substrate  \n",
       "0   dead wood (including bark)  \n",
       "1   dead wood (including bark)  \n",
       "2   dead wood (including bark)  \n",
       "3   dead wood (including bark)  \n",
       "4   dead wood (including bark)  \n",
       "5   dead wood (including bark)  \n",
       "6   dead wood (including bark)  \n",
       "7   dead wood (including bark)  \n",
       "8   dead wood (including bark)  \n",
       "9   dead wood (including bark)  \n",
       "10  dead wood (including bark)  \n",
       "11                      faeces  \n",
       "12                     lichens  \n",
       "13                     lichens  \n",
       "14   stems of herbs, grass etc  \n",
       "15   stems of herbs, grass etc  \n",
       "16  dead wood (including bark)  \n",
       "17                      mosses  \n",
       "18                      mosses  \n",
       "19                      mosses  \n",
       "20                      mosses  \n",
       "21                      mosses  \n",
       "22        bark of living trees  \n",
       "23        bark of living trees  \n",
       "24       leaf or needle litter  \n",
       "25  dead wood (including bark)  \n",
       "26  dead wood (including bark)  \n",
       "27        bark of living trees  \n",
       "28        bark of living trees  \n",
       "29  dead wood (including bark)  "
      ]
     },
     "execution_count": 170,
     "metadata": {},
     "output_type": "execute_result"
    }
   ],
   "source": [
    "df_train[['habitat','substrate']].head(30)"
   ]
  },
  {
   "cell_type": "code",
   "execution_count": 171,
   "id": "9af510a6-b1c7-4a93-acaa-cc66884234c0",
   "metadata": {},
   "outputs": [
    {
     "data": {
      "text/plain": [
       "31"
      ]
     },
     "execution_count": 171,
     "metadata": {},
     "output_type": "execute_result"
    }
   ],
   "source": [
    "df_train['habitat'].nunique()"
   ]
  },
  {
   "cell_type": "code",
   "execution_count": 172,
   "id": "4bb3a492-8b70-4dc9-8038-d4951b357aff",
   "metadata": {},
   "outputs": [],
   "source": [
    "# Create a mapping from habitat to most common substrate\n",
    "habitat_to_substrate = {}\n",
    "for habitat in df_train['habitat'].unique():\n",
    "    if pd.isna(habitat):\n",
    "        continue\n",
    "    \n",
    "    # Get all substrates for this habitat (excluding NaN)\n",
    "    substrates = df_train[df_train['habitat'] == habitat]['substrate'].dropna()\n",
    "    \n",
    "    if len(substrates) > 0:\n",
    "        # Find most common substrate for this habitat\n",
    "        most_common_substrate = substrates.value_counts().idxmax()\n",
    "        habitat_to_substrate[habitat] = most_common_substrate\n",
    "\n",
    "# Fill missing substrate values based on habitat\n",
    "for idx in df_train[df_train['substrate'].isna()].index:\n",
    "    habitat = df_train.loc[idx, 'habitat']\n",
    "    \n",
    "    # Only fill if habitat exists and is in our mapping\n",
    "    if pd.notna(habitat) and habitat in habitat_to_substrate:\n",
    "        df_train.loc[idx, 'substrate'] = habitat_to_substrate[habitat]"
   ]
  },
  {
   "cell_type": "code",
   "execution_count": 173,
   "id": "5de434c5-f47b-4379-bf2f-27be3ec8bc70",
   "metadata": {},
   "outputs": [
    {
     "data": {
      "text/plain": [
       "0"
      ]
     },
     "execution_count": 173,
     "metadata": {},
     "output_type": "execute_result"
    }
   ],
   "source": [
    "df_train['substrate'].isna().sum()"
   ]
  },
  {
   "cell_type": "code",
   "execution_count": 174,
   "id": "cc5d0511-dee7-4c01-8922-539baa2050f2",
   "metadata": {},
   "outputs": [
    {
     "data": {
      "text/plain": [
       "eventDate                  0\n",
       "year                       0\n",
       "month                      0\n",
       "day                        0\n",
       "habitat                    0\n",
       "countryCode                0\n",
       "scientificName             0\n",
       "kingdom                    0\n",
       "phylum                     0\n",
       "class                      0\n",
       "order                      0\n",
       "family                     0\n",
       "genus                      0\n",
       "specificEpithet            0\n",
       "hasCoordinate              0\n",
       "species                    0\n",
       "iucnRedListCategory        0\n",
       "substrate                  0\n",
       "latitude                   0\n",
       "longitude                  0\n",
       "coorUncert                14\n",
       "observationID              0\n",
       "region                    70\n",
       "district                 107\n",
       "filename                   0\n",
       "category_id                0\n",
       "metaSubstrate              0\n",
       "poisonous                  0\n",
       "elevation                 97\n",
       "landcover                103\n",
       "biogeographicalRegion    151\n",
       "dtype: int64"
      ]
     },
     "execution_count": 174,
     "metadata": {},
     "output_type": "execute_result"
    }
   ],
   "source": [
    "df_train.isna().sum()"
   ]
  },
  {
   "cell_type": "code",
   "execution_count": 175,
   "id": "99d61c7e-18e2-4a45-9b25-8da635093c57",
   "metadata": {},
   "outputs": [
    {
     "data": {
      "text/plain": [
       "dtype('float64')"
      ]
     },
     "execution_count": 175,
     "metadata": {},
     "output_type": "execute_result"
    }
   ],
   "source": [
    "# treatment of coorUncert column, \n",
    "df_train['coorUncert'].dtype"
   ]
  },
  {
   "cell_type": "code",
   "execution_count": 176,
   "id": "5979413a-c5cd-4613-bd41-fd2a6338aec2",
   "metadata": {
    "scrolled": true
   },
   "outputs": [
    {
     "data": {
      "text/plain": [
       "count     7805.000000\n",
       "mean        78.642152\n",
       "std        771.469730\n",
       "min          1.000000\n",
       "25%         10.000000\n",
       "50%         25.000000\n",
       "75%         50.000000\n",
       "max      50000.000000\n",
       "Name: coorUncert, dtype: float64"
      ]
     },
     "execution_count": 176,
     "metadata": {},
     "output_type": "execute_result"
    }
   ],
   "source": [
    "df_train['coorUncert'].describe()"
   ]
  },
  {
   "cell_type": "code",
   "execution_count": 177,
   "id": "9d3d26a3-ecb6-47e6-886d-d417553628bc",
   "metadata": {},
   "outputs": [
    {
     "data": {
      "image/png": "[encoded data removed]",
      "text/plain": [
       "<Figure size 640x480 with 1 Axes>"
      ]
     },
     "metadata": {},
     "output_type": "display_data"
    }
   ],
   "source": [
    "import matplotlib.pyplot as plt\n",
    "# Basic histogram\n",
    "plt.hist(df_train[df_train['coorUncert'] < 100]['coorUncert'], bins=50, color='green', edgecolor='black')\n",
    "\n",
    "# Add labels\n",
    "plt.title('Coordinate Uncertainty Distribution')\n",
    "plt.xlabel('Meters')\n",
    "plt.ylabel('Number of Observations')\n",
    "\n",
    "# Show plot\n",
    "plt.show()"
   ]
  },
  {
   "cell_type": "code",
   "execution_count": 178,
   "id": "9ee65d09-9a1d-4c91-9e5f-8ba0a9fa3052",
   "metadata": {},
   "outputs": [],
   "source": [
    "import pandas as pd\n",
    "import numpy as np\n",
    "\n",
    "# Fill missing values using median of low-uncertainty observations (<50m)\n",
    "median_low_uncert = df_train[df_train['coorUncert'] < 50]['coorUncert'].median()\n",
    "df_train['coorUncert'] = df_train['coorUncert'].fillna(median_low_uncert)\n"
   ]
  },
  {
   "cell_type": "code",
   "execution_count": 179,
   "id": "61f8c066-092b-442a-8faf-d2915bc3ba05",
   "metadata": {},
   "outputs": [
    {
     "data": {
      "text/plain": [
       "0"
      ]
     },
     "execution_count": 179,
     "metadata": {},
     "output_type": "execute_result"
    }
   ],
   "source": [
    "df_train['coorUncert'].isna().sum()"
   ]
  },
  {
   "cell_type": "code",
   "execution_count": 180,
   "id": "59480a25-9551-4118-be92-6b900598c769",
   "metadata": {},
   "outputs": [
    {
     "data": {
      "text/plain": [
       "eventDate                  0\n",
       "year                       0\n",
       "month                      0\n",
       "day                        0\n",
       "habitat                    0\n",
       "countryCode                0\n",
       "scientificName             0\n",
       "kingdom                    0\n",
       "phylum                     0\n",
       "class                      0\n",
       "order                      0\n",
       "family                     0\n",
       "genus                      0\n",
       "specificEpithet            0\n",
       "hasCoordinate              0\n",
       "species                    0\n",
       "iucnRedListCategory        0\n",
       "substrate                  0\n",
       "latitude                   0\n",
       "longitude                  0\n",
       "coorUncert                 0\n",
       "observationID              0\n",
       "region                    70\n",
       "district                 107\n",
       "filename                   0\n",
       "category_id                0\n",
       "metaSubstrate              0\n",
       "poisonous                  0\n",
       "elevation                 97\n",
       "landcover                103\n",
       "biogeographicalRegion    151\n",
       "dtype: int64"
      ]
     },
     "execution_count": 180,
     "metadata": {},
     "output_type": "execute_result"
    }
   ],
   "source": [
    "df_train.isna().sum()"
   ]
  },
  {
   "cell_type": "code",
   "execution_count": 181,
   "id": "7e9202c1-f656-41ad-8610-9a6e05f10956",
   "metadata": {},
   "outputs": [
    {
     "data": {
      "text/plain": [
       "dtype('O')"
      ]
     },
     "execution_count": 181,
     "metadata": {},
     "output_type": "execute_result"
    }
   ],
   "source": [
    "# now for region column\n",
    "df_train['region'].dtype"
   ]
  },
  {
   "cell_type": "code",
   "execution_count": 182,
   "id": "58298a1e-7473-4896-9d25-40eeaa279d8f",
   "metadata": {},
   "outputs": [
    {
     "data": {
      "text/plain": [
       "75"
      ]
     },
     "execution_count": 182,
     "metadata": {},
     "output_type": "execute_result"
    }
   ],
   "source": [
    "df_train['region'].nunique()"
   ]
  },
  {
   "cell_type": "code",
   "execution_count": 183,
   "id": "6e5e0358-de71-4e1d-9685-54078df23dbf",
   "metadata": {},
   "outputs": [
    {
     "data": {
      "text/plain": [
       "array(['Sjælland', 'Hovedstaden', 'Midtjylland', 'Nordjylland',\n",
       "       'Eastern Finland', 'Syddanmark', 'Dalarna',\n",
       "       'Thessaly and Central Greece', 'Västra Götaland', 'Oppland',\n",
       "       'Toscana', 'Western Finland', 'Nord-Trøndelag', 'Occitanie',\n",
       "       'Qaasuitsup', 'Svalbard', 'Cataluña', 'Värmland', 'Victoria',\n",
       "       'England', 'Lazio', 'Hordaland', 'Sermersooq', 'Kalmar', nan,\n",
       "       'Moyen-Ogooué', 'Bayern', 'Středočeský', 'Tasmania', 'Suðurland',\n",
       "       'Islas Baleares', 'British Columbia', 'Sør-Trøndelag',\n",
       "       'Norrbotten', 'Mukono', 'Uppsala', 'Blekinge', 'Lubuskie',\n",
       "       'Lisboa', 'Puntarenas', 'Islas Canarias', 'Troms', 'Fryslân',\n",
       "       'Pazardzhik', 'Västernorrland', 'Niedersachsen', 'Saint-Pierre',\n",
       "       'Trentino-Alto Adige', 'Gotland', 'Vestfold', 'Apulia', 'Oulu',\n",
       "       \"Provence-Alpes-Côte d'Azur\", 'Prague', 'Crete', 'Veneto',\n",
       "       'Halland', 'Plzeňský', 'Jihočeský', 'Bourgogne-Franche-Comté',\n",
       "       'Skåne', 'Jönköping', 'Leningrad', 'Oslo', 'New South Wales',\n",
       "       'Liguria', 'Epirus and Western Macedonia', 'Madeira',\n",
       "       'Västerbotten', 'Lombardia', 'Nagano', 'Kronoberg',\n",
       "       'Auvergne-Rhône-Alpes', 'Höfuðborgarsvæði', 'País Vasco', 'Texas'],\n",
       "      dtype=object)"
      ]
     },
     "execution_count": 183,
     "metadata": {},
     "output_type": "execute_result"
    }
   ],
   "source": [
    "df_train['region'].unique()"
   ]
  },
  {
   "cell_type": "code",
   "execution_count": 184,
   "id": "d13e2063-12a7-4012-9377-8e7d1870f9b5",
   "metadata": {},
   "outputs": [
    {
     "data": {
      "text/html": [
       "<div>\n",
       "<style scoped>\n",
       "    .dataframe tbody tr th:only-of-type {\n",
       "        vertical-align: middle;\n",
       "    }\n",
       "\n",
       "    .dataframe tbody tr th {\n",
       "        vertical-align: top;\n",
       "    }\n",
       "\n",
       "    .dataframe thead th {\n",
       "        text-align: right;\n",
       "    }\n",
       "</style>\n",
       "<table border=\"1\" class=\"dataframe\">\n",
       "  <thead>\n",
       "    <tr style=\"text-align: right;\">\n",
       "      <th></th>\n",
       "      <th>region</th>\n",
       "      <th>latitude</th>\n",
       "      <th>longitude</th>\n",
       "      <th>district</th>\n",
       "    </tr>\n",
       "  </thead>\n",
       "  <tbody>\n",
       "    <tr>\n",
       "      <th>0</th>\n",
       "      <td>Sjælland</td>\n",
       "      <td>55.227983</td>\n",
       "      <td>11.680016</td>\n",
       "      <td>Næstved</td>\n",
       "    </tr>\n",
       "    <tr>\n",
       "      <th>1</th>\n",
       "      <td>Hovedstaden</td>\n",
       "      <td>56.087201</td>\n",
       "      <td>12.215145</td>\n",
       "      <td>Gribskov</td>\n",
       "    </tr>\n",
       "    <tr>\n",
       "      <th>2</th>\n",
       "      <td>Hovedstaden</td>\n",
       "      <td>56.087201</td>\n",
       "      <td>12.215145</td>\n",
       "      <td>Gribskov</td>\n",
       "    </tr>\n",
       "    <tr>\n",
       "      <th>3</th>\n",
       "      <td>Hovedstaden</td>\n",
       "      <td>56.087201</td>\n",
       "      <td>12.215145</td>\n",
       "      <td>Gribskov</td>\n",
       "    </tr>\n",
       "    <tr>\n",
       "      <th>4</th>\n",
       "      <td>Hovedstaden</td>\n",
       "      <td>56.087201</td>\n",
       "      <td>12.215145</td>\n",
       "      <td>Gribskov</td>\n",
       "    </tr>\n",
       "    <tr>\n",
       "      <th>5</th>\n",
       "      <td>Hovedstaden</td>\n",
       "      <td>56.087201</td>\n",
       "      <td>12.215145</td>\n",
       "      <td>Gribskov</td>\n",
       "    </tr>\n",
       "    <tr>\n",
       "      <th>6</th>\n",
       "      <td>Hovedstaden</td>\n",
       "      <td>56.087201</td>\n",
       "      <td>12.215145</td>\n",
       "      <td>Gribskov</td>\n",
       "    </tr>\n",
       "    <tr>\n",
       "      <th>7</th>\n",
       "      <td>Hovedstaden</td>\n",
       "      <td>56.087201</td>\n",
       "      <td>12.215145</td>\n",
       "      <td>Gribskov</td>\n",
       "    </tr>\n",
       "    <tr>\n",
       "      <th>8</th>\n",
       "      <td>Hovedstaden</td>\n",
       "      <td>56.087201</td>\n",
       "      <td>12.215145</td>\n",
       "      <td>Gribskov</td>\n",
       "    </tr>\n",
       "    <tr>\n",
       "      <th>9</th>\n",
       "      <td>Hovedstaden</td>\n",
       "      <td>56.087201</td>\n",
       "      <td>12.215145</td>\n",
       "      <td>Gribskov</td>\n",
       "    </tr>\n",
       "    <tr>\n",
       "      <th>10</th>\n",
       "      <td>Hovedstaden</td>\n",
       "      <td>56.087201</td>\n",
       "      <td>12.215145</td>\n",
       "      <td>Gribskov</td>\n",
       "    </tr>\n",
       "    <tr>\n",
       "      <th>11</th>\n",
       "      <td>Sjælland</td>\n",
       "      <td>55.129065</td>\n",
       "      <td>12.105411</td>\n",
       "      <td>Vordingborg</td>\n",
       "    </tr>\n",
       "    <tr>\n",
       "      <th>12</th>\n",
       "      <td>Midtjylland</td>\n",
       "      <td>56.184093</td>\n",
       "      <td>10.186150</td>\n",
       "      <td>Århus</td>\n",
       "    </tr>\n",
       "    <tr>\n",
       "      <th>13</th>\n",
       "      <td>Midtjylland</td>\n",
       "      <td>56.184093</td>\n",
       "      <td>10.186150</td>\n",
       "      <td>Århus</td>\n",
       "    </tr>\n",
       "    <tr>\n",
       "      <th>14</th>\n",
       "      <td>Hovedstaden</td>\n",
       "      <td>55.818608</td>\n",
       "      <td>12.517483</td>\n",
       "      <td>Rudersdal</td>\n",
       "    </tr>\n",
       "    <tr>\n",
       "      <th>15</th>\n",
       "      <td>Hovedstaden</td>\n",
       "      <td>55.818608</td>\n",
       "      <td>12.517483</td>\n",
       "      <td>Rudersdal</td>\n",
       "    </tr>\n",
       "    <tr>\n",
       "      <th>16</th>\n",
       "      <td>Hovedstaden</td>\n",
       "      <td>56.104841</td>\n",
       "      <td>12.183906</td>\n",
       "      <td>Gribskov</td>\n",
       "    </tr>\n",
       "    <tr>\n",
       "      <th>17</th>\n",
       "      <td>Nordjylland</td>\n",
       "      <td>57.522080</td>\n",
       "      <td>9.878808</td>\n",
       "      <td>Hjørring</td>\n",
       "    </tr>\n",
       "    <tr>\n",
       "      <th>18</th>\n",
       "      <td>Nordjylland</td>\n",
       "      <td>57.522080</td>\n",
       "      <td>9.878808</td>\n",
       "      <td>Hjørring</td>\n",
       "    </tr>\n",
       "    <tr>\n",
       "      <th>19</th>\n",
       "      <td>Nordjylland</td>\n",
       "      <td>57.522080</td>\n",
       "      <td>9.878808</td>\n",
       "      <td>Hjørring</td>\n",
       "    </tr>\n",
       "  </tbody>\n",
       "</table>\n",
       "</div>"
      ],
      "text/plain": [
       "         region   latitude  longitude     district\n",
       "0      Sjælland  55.227983  11.680016      Næstved\n",
       "1   Hovedstaden  56.087201  12.215145     Gribskov\n",
       "2   Hovedstaden  56.087201  12.215145     Gribskov\n",
       "3   Hovedstaden  56.087201  12.215145     Gribskov\n",
       "4   Hovedstaden  56.087201  12.215145     Gribskov\n",
       "5   Hovedstaden  56.087201  12.215145     Gribskov\n",
       "6   Hovedstaden  56.087201  12.215145     Gribskov\n",
       "7   Hovedstaden  56.087201  12.215145     Gribskov\n",
       "8   Hovedstaden  56.087201  12.215145     Gribskov\n",
       "9   Hovedstaden  56.087201  12.215145     Gribskov\n",
       "10  Hovedstaden  56.087201  12.215145     Gribskov\n",
       "11     Sjælland  55.129065  12.105411  Vordingborg\n",
       "12  Midtjylland  56.184093  10.186150        Århus\n",
       "13  Midtjylland  56.184093  10.186150        Århus\n",
       "14  Hovedstaden  55.818608  12.517483    Rudersdal\n",
       "15  Hovedstaden  55.818608  12.517483    Rudersdal\n",
       "16  Hovedstaden  56.104841  12.183906     Gribskov\n",
       "17  Nordjylland  57.522080   9.878808     Hjørring\n",
       "18  Nordjylland  57.522080   9.878808     Hjørring\n",
       "19  Nordjylland  57.522080   9.878808     Hjørring"
      ]
     },
     "execution_count": 184,
     "metadata": {},
     "output_type": "execute_result"
    }
   ],
   "source": [
    "df_train[['region','latitude','longitude','district']].head(20)"
   ]
  },
  {
   "cell_type": "code",
   "execution_count": 185,
   "id": "ba3235de-c557-45ff-b94c-3558bea29be0",
   "metadata": {},
   "outputs": [],
   "source": [
    "# region, district, latitude, and longitude are closely related. The best approach to fill the missing region values would be KNN\n",
    "# The KNN model will find the closest geographic neighbors to determine the most likely region\n",
    "from sklearn.neighbors import KNeighborsClassifier\n",
    "\n",
    "# Filter to rows with coordinates and known region\n",
    "coord_data = df_train.dropna(subset=['latitude', 'longitude', 'region'])\n",
    "\n",
    "# Train a KNN model on the coordinates\n",
    "X = coord_data[['latitude', 'longitude']]\n",
    "y = coord_data['region']\n",
    "knn = KNeighborsClassifier(n_neighbors=5)\n",
    "knn.fit(X, y)\n",
    "\n",
    "# Predict region for rows with missing region but valid coordinates\n",
    "missing_region_with_coords = df_train[df_train['region'].isna() & \n",
    "                                    df_train['latitude'].notna() & \n",
    "                                    df_train['longitude'].notna()]\n",
    "\n",
    "if len(missing_region_with_coords) > 0:\n",
    "    predictions = knn.predict(missing_region_with_coords[['latitude', 'longitude']])\n",
    "    df_train.loc[missing_region_with_coords.index, 'region'] = predictions"
   ]
  },
  {
   "cell_type": "code",
   "execution_count": 186,
   "id": "a0b6dd0d-bc6e-4232-a70b-807f46fdfa51",
   "metadata": {},
   "outputs": [
    {
     "data": {
      "text/plain": [
       "0"
      ]
     },
     "execution_count": 186,
     "metadata": {},
     "output_type": "execute_result"
    }
   ],
   "source": [
    "df_train['region'].isna().sum()"
   ]
  },
  {
   "cell_type": "code",
   "execution_count": 187,
   "id": "2c2ee50c-a876-4368-94fe-9cd2434dbe36",
   "metadata": {},
   "outputs": [
    {
     "data": {
      "text/plain": [
       "eventDate                  0\n",
       "year                       0\n",
       "month                      0\n",
       "day                        0\n",
       "habitat                    0\n",
       "countryCode                0\n",
       "scientificName             0\n",
       "kingdom                    0\n",
       "phylum                     0\n",
       "class                      0\n",
       "order                      0\n",
       "family                     0\n",
       "genus                      0\n",
       "specificEpithet            0\n",
       "hasCoordinate              0\n",
       "species                    0\n",
       "iucnRedListCategory        0\n",
       "substrate                  0\n",
       "latitude                   0\n",
       "longitude                  0\n",
       "coorUncert                 0\n",
       "observationID              0\n",
       "region                     0\n",
       "district                 107\n",
       "filename                   0\n",
       "category_id                0\n",
       "metaSubstrate              0\n",
       "poisonous                  0\n",
       "elevation                 97\n",
       "landcover                103\n",
       "biogeographicalRegion    151\n",
       "dtype: int64"
      ]
     },
     "execution_count": 187,
     "metadata": {},
     "output_type": "execute_result"
    }
   ],
   "source": [
    "df_train.isna().sum()"
   ]
  },
  {
   "cell_type": "code",
   "execution_count": 188,
   "id": "036e2c8c-ac94-48e2-9b52-4194a733b2f6",
   "metadata": {},
   "outputs": [
    {
     "data": {
      "text/plain": [
       "dtype('O')"
      ]
     },
     "execution_count": 188,
     "metadata": {},
     "output_type": "execute_result"
    }
   ],
   "source": [
    "# now for the district column, \n",
    "df_train['district'].dtype"
   ]
  },
  {
   "cell_type": "code",
   "execution_count": 189,
   "id": "b6943407-4f4f-4078-a984-5df5ad56002c",
   "metadata": {},
   "outputs": [
    {
     "data": {
      "text/plain": [
       "array(['Næstved', 'Gribskov', 'Vordingborg', 'Århus', 'Rudersdal',\n",
       "       'Hjørring', 'Hillerød', 'Guldborgsund', 'Syddjurs',\n",
       "       'North Karelia', 'København', 'Lemvig', 'Gentofte', 'Tønder',\n",
       "       'Faxe', 'Ikast-Brande', 'Gladsaxe', 'Svendborg', 'Aalborg',\n",
       "       'Frederiksberg', 'Lyngby-Taarbæk', 'Kalundborg', 'Orsa',\n",
       "       'Høje Taastrup', 'Bornholm', 'Køge', 'Samsø', 'Helsingør',\n",
       "       'Thisted', 'Thessaly', 'Nordfyns', 'Ringkøbing-Skjern', 'Lysekil',\n",
       "       'Vågå', 'Arezzo', 'Kolding', 'Frederikshavn', 'Roskilde',\n",
       "       'Skanderborg', 'Varde', 'Vejle', 'Skive', 'Silkeborg',\n",
       "       'Jammerbugt', 'Furesø', 'Vesthimmerland', 'Lejre', 'Albertslund',\n",
       "       'Mariagerfjord', 'Viborg', 'Stevns', 'Sorø', 'Rebild', 'Odder',\n",
       "       'Læsø', 'Sønderborg', 'Herning', 'Slagelse', 'Odense', 'Lolland',\n",
       "       'Billund', 'Ringsted', 'Randers', 'Glostrup', 'Norddjurs',\n",
       "       'Halsnæs', 'Tavastia Proper', 'Faaborg-Midtfyn', 'Steinkjer',\n",
       "       'Götene', 'Mariestad', 'Horsens', 'Tårnby', 'Pyrénées-Orientales',\n",
       "       nan, 'Fredericia', 'Barcelona', 'Hedensted', 'Sunne',\n",
       "       'Frederikssund', 'Baw Baw', 'Hepburn', 'Macedon Ranges',\n",
       "       'Murrindindi', 'Langeland', 'Cornwall', 'Brønderslev', 'Roma',\n",
       "       'Stord', 'Bømlo', 'Årjäng', 'Aabenraa', 'Odsherred', 'Greve',\n",
       "       'Borgholm', 'Nyborg', 'Allerød', 'Christiansø', 'Siena', 'Holbæk',\n",
       "       'Abanga-Bigné', 'Haderslev', 'Hvidovre', 'Holstebro', 'Middelfart',\n",
       "       'Granvin', 'Hørsholm', 'Main-Spessart', 'Beroun',\n",
       "       'Waratah/Wynyard', 'Sveitarfélagið Árborg', 'Baleares', 'Hérault',\n",
       "       'Alberni-Clayoquot', 'Gran', 'Skövde', 'Trondheim', 'Jokkmokk',\n",
       "       'Mukono', 'Mörbylånga', 'Fredensborg', 'Rødovre', 'Egedal',\n",
       "       'Brøndby', 'Knivsta', 'Esbjerg', 'Karlskrona', 'Wschowa',\n",
       "       'Yarra Ranges', 'Whitehorse', 'Dovre', 'Torres Vedras', 'Ærø',\n",
       "       'Buenos Aires', 'Santa Cruz de Tenerife', 'Karlsøy',\n",
       "       'Schiermonnikoog', 'Velingrad', 'Sundsvall', 'Kerteminde',\n",
       "       'Assens', 'Morsø', 'Ulvik', 'Aude', 'Ishøj', 'Grums', 'Gällivare',\n",
       "       'Braunschweig', \"L'Entre-Deux\", 'Uppsala', 'Ballerup', 'Dragør',\n",
       "       'Bolzano', 'Praha - západ', 'Gotland', 'Unincorporated Victoria',\n",
       "       'Borre', 'Nillumbik', 'Brindisi', 'Kainuu', 'Tysnes', 'Favrskov',\n",
       "       'Alpes-Maritimes', 'Praha 5', 'Älvdalen', 'Pisa', 'Crete',\n",
       "       'Þingvallahreppur', 'Venezia', 'Solrød', 'Falkenberg', 'Klatovy',\n",
       "       'Herlev', 'Český Krumlov', 'Doubs', 'Gnúpverjahreppur', 'Trento',\n",
       "       'Ängelholm', 'Gnosjö', 'Laholm', 'Tosnenskiy rayon', 'Oslo',\n",
       "       'Vejen', 'Jura', 'Fanø', 'Goslar', 'Lachlan', 'Genova', 'Epirus',\n",
       "       'São Vicente', 'Hampshire', 'Vilhelmina', 'Colac-Otway',\n",
       "       'Moorabool', 'Pavia', 'Nagiso', 'Älmhult', 'Ain', 'Struer',\n",
       "       'Reykjavík', 'Vizcaya', 'Savona', 'Freyung-Grafenau', 'Surf Coast',\n",
       "       'Northern Ostrobothnia', 'Harris'], dtype=object)"
      ]
     },
     "execution_count": 189,
     "metadata": {},
     "output_type": "execute_result"
    }
   ],
   "source": [
    "df_train['district'].unique()"
   ]
  },
  {
   "cell_type": "code",
   "execution_count": 190,
   "id": "f8386ad3-001d-4dd9-b370-6de5ede20f92",
   "metadata": {},
   "outputs": [
    {
     "data": {
      "text/plain": [
       "205"
      ]
     },
     "execution_count": 190,
     "metadata": {},
     "output_type": "execute_result"
    }
   ],
   "source": [
    "df_train['district'].nunique()"
   ]
  },
  {
   "cell_type": "code",
   "execution_count": 191,
   "id": "4e529e6f-8618-4c16-9b3a-91be1e39fcf7",
   "metadata": {},
   "outputs": [
    {
     "data": {
      "text/html": [
       "<div>\n",
       "<style scoped>\n",
       "    .dataframe tbody tr th:only-of-type {\n",
       "        vertical-align: middle;\n",
       "    }\n",
       "\n",
       "    .dataframe tbody tr th {\n",
       "        vertical-align: top;\n",
       "    }\n",
       "\n",
       "    .dataframe thead th {\n",
       "        text-align: right;\n",
       "    }\n",
       "</style>\n",
       "<table border=\"1\" class=\"dataframe\">\n",
       "  <thead>\n",
       "    <tr style=\"text-align: right;\">\n",
       "      <th></th>\n",
       "      <th>district</th>\n",
       "      <th>region</th>\n",
       "      <th>latitude</th>\n",
       "      <th>longitude</th>\n",
       "    </tr>\n",
       "  </thead>\n",
       "  <tbody>\n",
       "    <tr>\n",
       "      <th>0</th>\n",
       "      <td>Næstved</td>\n",
       "      <td>Sjælland</td>\n",
       "      <td>55.227983</td>\n",
       "      <td>11.680016</td>\n",
       "    </tr>\n",
       "    <tr>\n",
       "      <th>1</th>\n",
       "      <td>Gribskov</td>\n",
       "      <td>Hovedstaden</td>\n",
       "      <td>56.087201</td>\n",
       "      <td>12.215145</td>\n",
       "    </tr>\n",
       "    <tr>\n",
       "      <th>2</th>\n",
       "      <td>Gribskov</td>\n",
       "      <td>Hovedstaden</td>\n",
       "      <td>56.087201</td>\n",
       "      <td>12.215145</td>\n",
       "    </tr>\n",
       "    <tr>\n",
       "      <th>3</th>\n",
       "      <td>Gribskov</td>\n",
       "      <td>Hovedstaden</td>\n",
       "      <td>56.087201</td>\n",
       "      <td>12.215145</td>\n",
       "    </tr>\n",
       "    <tr>\n",
       "      <th>4</th>\n",
       "      <td>Gribskov</td>\n",
       "      <td>Hovedstaden</td>\n",
       "      <td>56.087201</td>\n",
       "      <td>12.215145</td>\n",
       "    </tr>\n",
       "    <tr>\n",
       "      <th>5</th>\n",
       "      <td>Gribskov</td>\n",
       "      <td>Hovedstaden</td>\n",
       "      <td>56.087201</td>\n",
       "      <td>12.215145</td>\n",
       "    </tr>\n",
       "    <tr>\n",
       "      <th>6</th>\n",
       "      <td>Gribskov</td>\n",
       "      <td>Hovedstaden</td>\n",
       "      <td>56.087201</td>\n",
       "      <td>12.215145</td>\n",
       "    </tr>\n",
       "    <tr>\n",
       "      <th>7</th>\n",
       "      <td>Gribskov</td>\n",
       "      <td>Hovedstaden</td>\n",
       "      <td>56.087201</td>\n",
       "      <td>12.215145</td>\n",
       "    </tr>\n",
       "    <tr>\n",
       "      <th>8</th>\n",
       "      <td>Gribskov</td>\n",
       "      <td>Hovedstaden</td>\n",
       "      <td>56.087201</td>\n",
       "      <td>12.215145</td>\n",
       "    </tr>\n",
       "    <tr>\n",
       "      <th>9</th>\n",
       "      <td>Gribskov</td>\n",
       "      <td>Hovedstaden</td>\n",
       "      <td>56.087201</td>\n",
       "      <td>12.215145</td>\n",
       "    </tr>\n",
       "    <tr>\n",
       "      <th>10</th>\n",
       "      <td>Gribskov</td>\n",
       "      <td>Hovedstaden</td>\n",
       "      <td>56.087201</td>\n",
       "      <td>12.215145</td>\n",
       "    </tr>\n",
       "    <tr>\n",
       "      <th>11</th>\n",
       "      <td>Vordingborg</td>\n",
       "      <td>Sjælland</td>\n",
       "      <td>55.129065</td>\n",
       "      <td>12.105411</td>\n",
       "    </tr>\n",
       "    <tr>\n",
       "      <th>12</th>\n",
       "      <td>Århus</td>\n",
       "      <td>Midtjylland</td>\n",
       "      <td>56.184093</td>\n",
       "      <td>10.186150</td>\n",
       "    </tr>\n",
       "    <tr>\n",
       "      <th>13</th>\n",
       "      <td>Århus</td>\n",
       "      <td>Midtjylland</td>\n",
       "      <td>56.184093</td>\n",
       "      <td>10.186150</td>\n",
       "    </tr>\n",
       "    <tr>\n",
       "      <th>14</th>\n",
       "      <td>Rudersdal</td>\n",
       "      <td>Hovedstaden</td>\n",
       "      <td>55.818608</td>\n",
       "      <td>12.517483</td>\n",
       "    </tr>\n",
       "    <tr>\n",
       "      <th>15</th>\n",
       "      <td>Rudersdal</td>\n",
       "      <td>Hovedstaden</td>\n",
       "      <td>55.818608</td>\n",
       "      <td>12.517483</td>\n",
       "    </tr>\n",
       "    <tr>\n",
       "      <th>16</th>\n",
       "      <td>Gribskov</td>\n",
       "      <td>Hovedstaden</td>\n",
       "      <td>56.104841</td>\n",
       "      <td>12.183906</td>\n",
       "    </tr>\n",
       "    <tr>\n",
       "      <th>17</th>\n",
       "      <td>Hjørring</td>\n",
       "      <td>Nordjylland</td>\n",
       "      <td>57.522080</td>\n",
       "      <td>9.878808</td>\n",
       "    </tr>\n",
       "    <tr>\n",
       "      <th>18</th>\n",
       "      <td>Hjørring</td>\n",
       "      <td>Nordjylland</td>\n",
       "      <td>57.522080</td>\n",
       "      <td>9.878808</td>\n",
       "    </tr>\n",
       "    <tr>\n",
       "      <th>19</th>\n",
       "      <td>Hjørring</td>\n",
       "      <td>Nordjylland</td>\n",
       "      <td>57.522080</td>\n",
       "      <td>9.878808</td>\n",
       "    </tr>\n",
       "  </tbody>\n",
       "</table>\n",
       "</div>"
      ],
      "text/plain": [
       "       district       region   latitude  longitude\n",
       "0       Næstved     Sjælland  55.227983  11.680016\n",
       "1      Gribskov  Hovedstaden  56.087201  12.215145\n",
       "2      Gribskov  Hovedstaden  56.087201  12.215145\n",
       "3      Gribskov  Hovedstaden  56.087201  12.215145\n",
       "4      Gribskov  Hovedstaden  56.087201  12.215145\n",
       "5      Gribskov  Hovedstaden  56.087201  12.215145\n",
       "6      Gribskov  Hovedstaden  56.087201  12.215145\n",
       "7      Gribskov  Hovedstaden  56.087201  12.215145\n",
       "8      Gribskov  Hovedstaden  56.087201  12.215145\n",
       "9      Gribskov  Hovedstaden  56.087201  12.215145\n",
       "10     Gribskov  Hovedstaden  56.087201  12.215145\n",
       "11  Vordingborg     Sjælland  55.129065  12.105411\n",
       "12        Århus  Midtjylland  56.184093  10.186150\n",
       "13        Århus  Midtjylland  56.184093  10.186150\n",
       "14    Rudersdal  Hovedstaden  55.818608  12.517483\n",
       "15    Rudersdal  Hovedstaden  55.818608  12.517483\n",
       "16     Gribskov  Hovedstaden  56.104841  12.183906\n",
       "17     Hjørring  Nordjylland  57.522080   9.878808\n",
       "18     Hjørring  Nordjylland  57.522080   9.878808\n",
       "19     Hjørring  Nordjylland  57.522080   9.878808"
      ]
     },
     "execution_count": 191,
     "metadata": {},
     "output_type": "execute_result"
    }
   ],
   "source": [
    "df_train[['district','region','latitude','longitude']].head(20)"
   ]
  },
  {
   "cell_type": "code",
   "execution_count": 192,
   "id": "30f8be39-88c2-4fb6-86e8-97a4a7711518",
   "metadata": {},
   "outputs": [],
   "source": [
    "# trying using region and exact coordinates matches\n",
    "# Find exact coordinate matches\n",
    "for idx in df_train[df_train['district'].isna()].index:\n",
    "    lat = df_train.loc[idx, 'latitude']\n",
    "    lon = df_train.loc[idx, 'longitude']\n",
    "    region = df_train.loc[idx, 'region']\n",
    "    \n",
    "    # Look for exact coordinate matches\n",
    "    matches = df_train[(df_train['latitude'] == lat) & \n",
    "                       (df_train['longitude'] == lon) & \n",
    "                       (df_train['district'].notna())]\n",
    "    \n",
    "    if len(matches) > 0:\n",
    "        df_train.loc[idx, 'district'] = matches['district'].iloc[0]"
   ]
  },
  {
   "cell_type": "code",
   "execution_count": 193,
   "id": "7ae48bf6-b600-4ea0-b6df-3fea0d9a3ee2",
   "metadata": {},
   "outputs": [
    {
     "data": {
      "text/plain": [
       "107"
      ]
     },
     "execution_count": 193,
     "metadata": {},
     "output_type": "execute_result"
    }
   ],
   "source": [
    "df_train['district'].isna().sum()"
   ]
  },
  {
   "cell_type": "code",
   "execution_count": 194,
   "id": "8dd6030a-d572-42fa-8a33-f63d6f770ee8",
   "metadata": {},
   "outputs": [],
   "source": [
    "# use region to determine district (for remaining missing values)\n",
    "region_to_district = {}\n",
    "for region in df_train['region'].unique():\n",
    "    if pd.isna(region):\n",
    "        continue\n",
    "    \n",
    "    districts = df_train[df_train['region'] == region]['district'].dropna()\n",
    "    \n",
    "    if len(districts) > 0:\n",
    "        # Get most common district in this region\n",
    "        most_common_district = districts.value_counts().idxmax()\n",
    "        region_to_district[region] = most_common_district\n",
    "\n",
    "# Fill missing districts based on region\n",
    "for idx in df_train[df_train['district'].isna()].index:\n",
    "    region = df_train.loc[idx, 'region']\n",
    "    \n",
    "    if pd.notna(region) and region in region_to_district:\n",
    "        df_train.loc[idx, 'district'] = region_to_district[region]"
   ]
  },
  {
   "cell_type": "code",
   "execution_count": 195,
   "id": "b0e98d7a-84ce-410a-beea-4206ff175d39",
   "metadata": {},
   "outputs": [
    {
     "data": {
      "text/plain": [
       "37"
      ]
     },
     "execution_count": 195,
     "metadata": {},
     "output_type": "execute_result"
    }
   ],
   "source": [
    "df_train['district'].isna().sum()"
   ]
  },
  {
   "cell_type": "code",
   "execution_count": 196,
   "id": "99b60607-f7ca-44da-8e2e-b66645ed1bb8",
   "metadata": {},
   "outputs": [],
   "source": [
    "# // using knn for still missing values\n",
    "still_missing = df_train[df_train['district'].isna()]\n",
    "if len(still_missing) > 0 and len(df_train.dropna(subset=['latitude', 'longitude', 'district'])) > 0:\n",
    "    from sklearn.neighbors import KNeighborsClassifier\n",
    "    \n",
    "    # Prepare training data\n",
    "    train_data = df_train.dropna(subset=['latitude', 'longitude', 'district'])\n",
    "    X_train = train_data[['latitude', 'longitude']]\n",
    "    y_train = train_data['district']\n",
    "    \n",
    "    # Train KNN model\n",
    "    knn = KNeighborsClassifier(n_neighbors=3)\n",
    "    knn.fit(X_train, y_train)\n",
    "    \n",
    "    # Predict for missing values\n",
    "    missing_with_coords = df_train[df_train['district'].isna() & \n",
    "                                  df_train['latitude'].notna() & \n",
    "                                  df_train['longitude'].notna()]\n",
    "    \n",
    "    if len(missing_with_coords) > 0:\n",
    "        X_missing = missing_with_coords[['latitude', 'longitude']]\n",
    "        predictions = knn.predict(X_missing)\n",
    "        df_train.loc[missing_with_coords.index, 'district'] = predictions"
   ]
  },
  {
   "cell_type": "code",
   "execution_count": 197,
   "id": "ae74665d-3d86-4461-9917-deb47f552209",
   "metadata": {},
   "outputs": [
    {
     "data": {
      "text/plain": [
       "0"
      ]
     },
     "execution_count": 197,
     "metadata": {},
     "output_type": "execute_result"
    }
   ],
   "source": [
    "df_train['district'].isna().sum()"
   ]
  },
  {
   "cell_type": "code",
   "execution_count": 198,
   "id": "f83e1b6a-a5af-4d50-9374-41a6b98f4260",
   "metadata": {},
   "outputs": [
    {
     "data": {
      "text/plain": [
       "eventDate                  0\n",
       "year                       0\n",
       "month                      0\n",
       "day                        0\n",
       "habitat                    0\n",
       "countryCode                0\n",
       "scientificName             0\n",
       "kingdom                    0\n",
       "phylum                     0\n",
       "class                      0\n",
       "order                      0\n",
       "family                     0\n",
       "genus                      0\n",
       "specificEpithet            0\n",
       "hasCoordinate              0\n",
       "species                    0\n",
       "iucnRedListCategory        0\n",
       "substrate                  0\n",
       "latitude                   0\n",
       "longitude                  0\n",
       "coorUncert                 0\n",
       "observationID              0\n",
       "region                     0\n",
       "district                   0\n",
       "filename                   0\n",
       "category_id                0\n",
       "metaSubstrate              0\n",
       "poisonous                  0\n",
       "elevation                 97\n",
       "landcover                103\n",
       "biogeographicalRegion    151\n",
       "dtype: int64"
      ]
     },
     "execution_count": 198,
     "metadata": {},
     "output_type": "execute_result"
    }
   ],
   "source": [
    "df_train.isna().sum()"
   ]
  },
  {
   "cell_type": "code",
   "execution_count": 199,
   "id": "42b68a30-16d5-4da0-927b-6a6682e4412d",
   "metadata": {},
   "outputs": [
    {
     "data": {
      "text/plain": [
       "dtype('float64')"
      ]
     },
     "execution_count": 199,
     "metadata": {},
     "output_type": "execute_result"
    }
   ],
   "source": [
    "# now for the elevation column\n",
    "df_train['elevation'].dtype"
   ]
  },
  {
   "cell_type": "code",
   "execution_count": 200,
   "id": "0f82baae-980f-462d-83bc-f1a16467ff11",
   "metadata": {},
   "outputs": [
    {
     "data": {
      "text/plain": [
       "count    7722.000000\n",
       "mean       72.065754\n",
       "std       163.440745\n",
       "min         0.000000\n",
       "25%         0.000000\n",
       "50%        14.000000\n",
       "75%        68.000000\n",
       "max      1600.000000\n",
       "Name: elevation, dtype: float64"
      ]
     },
     "execution_count": 200,
     "metadata": {},
     "output_type": "execute_result"
    }
   ],
   "source": [
    "df_train['elevation'].describe()"
   ]
  },
  {
   "cell_type": "code",
   "execution_count": 201,
   "id": "4a86630c-8c24-4256-8553-7d4965d40cc2",
   "metadata": {},
   "outputs": [
    {
     "data": {
      "text/plain": [
       "Index(['eventDate', 'year', 'month', 'day', 'habitat', 'countryCode',\n",
       "       'scientificName', 'kingdom', 'phylum', 'class', 'order', 'family',\n",
       "       'genus', 'specificEpithet', 'hasCoordinate', 'species',\n",
       "       'iucnRedListCategory', 'substrate', 'latitude', 'longitude',\n",
       "       'coorUncert', 'observationID', 'region', 'district', 'filename',\n",
       "       'category_id', 'metaSubstrate', 'poisonous', 'elevation', 'landcover',\n",
       "       'biogeographicalRegion'],\n",
       "      dtype='object')"
      ]
     },
     "execution_count": 201,
     "metadata": {},
     "output_type": "execute_result"
    }
   ],
   "source": [
    "df_train.columns"
   ]
  },
  {
   "cell_type": "code",
   "execution_count": 202,
   "id": "847f33c5-4054-496d-9c96-7c8166ebc2f1",
   "metadata": {},
   "outputs": [
    {
     "data": {
      "text/plain": [
       "eventDate                  0\n",
       "year                       0\n",
       "month                      0\n",
       "day                        0\n",
       "habitat                    0\n",
       "countryCode                0\n",
       "scientificName             0\n",
       "kingdom                    0\n",
       "phylum                     0\n",
       "class                      0\n",
       "order                      0\n",
       "family                     0\n",
       "genus                      0\n",
       "specificEpithet            0\n",
       "hasCoordinate              0\n",
       "species                    0\n",
       "iucnRedListCategory        0\n",
       "substrate                  0\n",
       "latitude                   0\n",
       "longitude                  0\n",
       "coorUncert                 0\n",
       "observationID              0\n",
       "region                     0\n",
       "district                   0\n",
       "filename                   0\n",
       "category_id                0\n",
       "metaSubstrate              0\n",
       "poisonous                  0\n",
       "elevation                 97\n",
       "landcover                103\n",
       "biogeographicalRegion    151\n",
       "dtype: int64"
      ]
     },
     "execution_count": 202,
     "metadata": {},
     "output_type": "execute_result"
    }
   ],
   "source": [
    "df_train.isnull().sum()"
   ]
  },
  {
   "cell_type": "code",
   "execution_count": 203,
   "id": "b75b3b03-e0f0-4e54-baa4-3307b2870e9a",
   "metadata": {},
   "outputs": [
    {
     "data": {
      "text/plain": [
       "7"
      ]
     },
     "execution_count": 203,
     "metadata": {},
     "output_type": "execute_result"
    }
   ],
   "source": [
    "# fikrstly treating biogeographhical region , it has 151 missing values s\n",
    "df_train['biogeographicalRegion'].nunique()"
   ]
  },
  {
   "cell_type": "code",
   "execution_count": 204,
   "id": "4032ffb2-e7fb-4190-a93d-a99e74af7fff",
   "metadata": {},
   "outputs": [
    {
     "data": {
      "text/plain": [
       "array(['continental', 'boreal', 'atlantic', 'mediterranean', 'alpine',\n",
       "       nan, 'arctic', 'macaronesia'], dtype=object)"
      ]
     },
     "execution_count": 204,
     "metadata": {},
     "output_type": "execute_result"
    }
   ],
   "source": [
    "df_train['biogeographicalRegion'].unique()"
   ]
  },
  {
   "cell_type": "code",
   "execution_count": 208,
   "id": "d3f4ea5b-c6fe-4bd0-952e-555cba0187e9",
   "metadata": {},
   "outputs": [
    {
     "data": {
      "text/html": [
       "<div>\n",
       "<style scoped>\n",
       "    .dataframe tbody tr th:only-of-type {\n",
       "        vertical-align: middle;\n",
       "    }\n",
       "\n",
       "    .dataframe tbody tr th {\n",
       "        vertical-align: top;\n",
       "    }\n",
       "\n",
       "    .dataframe thead th {\n",
       "        text-align: right;\n",
       "    }\n",
       "</style>\n",
       "<table border=\"1\" class=\"dataframe\">\n",
       "  <thead>\n",
       "    <tr style=\"text-align: right;\">\n",
       "      <th></th>\n",
       "      <th>biogeographicalRegion</th>\n",
       "      <th>latitude</th>\n",
       "      <th>longitude</th>\n",
       "      <th>region</th>\n",
       "    </tr>\n",
       "  </thead>\n",
       "  <tbody>\n",
       "    <tr>\n",
       "      <th>7022</th>\n",
       "      <td>continental</td>\n",
       "      <td>57.014550</td>\n",
       "      <td>9.914370</td>\n",
       "      <td>Nordjylland</td>\n",
       "    </tr>\n",
       "    <tr>\n",
       "      <th>6724</th>\n",
       "      <td>continental</td>\n",
       "      <td>55.744953</td>\n",
       "      <td>12.583444</td>\n",
       "      <td>Hovedstaden</td>\n",
       "    </tr>\n",
       "    <tr>\n",
       "      <th>5677</th>\n",
       "      <td>atlantic</td>\n",
       "      <td>55.681516</td>\n",
       "      <td>8.179708</td>\n",
       "      <td>Syddanmark</td>\n",
       "    </tr>\n",
       "    <tr>\n",
       "      <th>917</th>\n",
       "      <td>continental</td>\n",
       "      <td>55.789147</td>\n",
       "      <td>12.548053</td>\n",
       "      <td>Hovedstaden</td>\n",
       "    </tr>\n",
       "    <tr>\n",
       "      <th>5672</th>\n",
       "      <td>continental</td>\n",
       "      <td>55.707095</td>\n",
       "      <td>11.841309</td>\n",
       "      <td>Sjælland</td>\n",
       "    </tr>\n",
       "    <tr>\n",
       "      <th>463</th>\n",
       "      <td>continental</td>\n",
       "      <td>56.892433</td>\n",
       "      <td>10.171070</td>\n",
       "      <td>Nordjylland</td>\n",
       "    </tr>\n",
       "    <tr>\n",
       "      <th>1736</th>\n",
       "      <td>continental</td>\n",
       "      <td>55.929644</td>\n",
       "      <td>12.361133</td>\n",
       "      <td>Hovedstaden</td>\n",
       "    </tr>\n",
       "    <tr>\n",
       "      <th>5372</th>\n",
       "      <td>atlantic</td>\n",
       "      <td>55.955303</td>\n",
       "      <td>9.000658</td>\n",
       "      <td>Midtjylland</td>\n",
       "    </tr>\n",
       "    <tr>\n",
       "      <th>6335</th>\n",
       "      <td>continental</td>\n",
       "      <td>55.552634</td>\n",
       "      <td>11.883789</td>\n",
       "      <td>Sjælland</td>\n",
       "    </tr>\n",
       "    <tr>\n",
       "      <th>2280</th>\n",
       "      <td>continental</td>\n",
       "      <td>54.724245</td>\n",
       "      <td>10.692495</td>\n",
       "      <td>Syddanmark</td>\n",
       "    </tr>\n",
       "    <tr>\n",
       "      <th>6043</th>\n",
       "      <td>continental</td>\n",
       "      <td>54.788093</td>\n",
       "      <td>12.077646</td>\n",
       "      <td>Sjælland</td>\n",
       "    </tr>\n",
       "    <tr>\n",
       "      <th>6447</th>\n",
       "      <td>mediterranean</td>\n",
       "      <td>41.812222</td>\n",
       "      <td>2.295833</td>\n",
       "      <td>Cataluña</td>\n",
       "    </tr>\n",
       "    <tr>\n",
       "      <th>4626</th>\n",
       "      <td>continental</td>\n",
       "      <td>57.502925</td>\n",
       "      <td>10.299818</td>\n",
       "      <td>Nordjylland</td>\n",
       "    </tr>\n",
       "    <tr>\n",
       "      <th>310</th>\n",
       "      <td>continental</td>\n",
       "      <td>55.800150</td>\n",
       "      <td>12.349540</td>\n",
       "      <td>Hovedstaden</td>\n",
       "    </tr>\n",
       "    <tr>\n",
       "      <th>3972</th>\n",
       "      <td>continental</td>\n",
       "      <td>56.085938</td>\n",
       "      <td>10.225793</td>\n",
       "      <td>Midtjylland</td>\n",
       "    </tr>\n",
       "    <tr>\n",
       "      <th>1530</th>\n",
       "      <td>atlantic</td>\n",
       "      <td>57.137631</td>\n",
       "      <td>9.066958</td>\n",
       "      <td>Nordjylland</td>\n",
       "    </tr>\n",
       "    <tr>\n",
       "      <th>6817</th>\n",
       "      <td>continental</td>\n",
       "      <td>55.701596</td>\n",
       "      <td>12.565128</td>\n",
       "      <td>Hovedstaden</td>\n",
       "    </tr>\n",
       "    <tr>\n",
       "      <th>3205</th>\n",
       "      <td>atlantic</td>\n",
       "      <td>56.044650</td>\n",
       "      <td>9.198857</td>\n",
       "      <td>Midtjylland</td>\n",
       "    </tr>\n",
       "    <tr>\n",
       "      <th>1191</th>\n",
       "      <td>continental</td>\n",
       "      <td>49.965190</td>\n",
       "      <td>9.756781</td>\n",
       "      <td>Bayern</td>\n",
       "    </tr>\n",
       "    <tr>\n",
       "      <th>909</th>\n",
       "      <td>continental</td>\n",
       "      <td>55.091020</td>\n",
       "      <td>10.524820</td>\n",
       "      <td>Syddanmark</td>\n",
       "    </tr>\n",
       "  </tbody>\n",
       "</table>\n",
       "</div>"
      ],
      "text/plain": [
       "     biogeographicalRegion   latitude  longitude       region\n",
       "7022           continental  57.014550   9.914370  Nordjylland\n",
       "6724           continental  55.744953  12.583444  Hovedstaden\n",
       "5677              atlantic  55.681516   8.179708   Syddanmark\n",
       "917            continental  55.789147  12.548053  Hovedstaden\n",
       "5672           continental  55.707095  11.841309     Sjælland\n",
       "463            continental  56.892433  10.171070  Nordjylland\n",
       "1736           continental  55.929644  12.361133  Hovedstaden\n",
       "5372              atlantic  55.955303   9.000658  Midtjylland\n",
       "6335           continental  55.552634  11.883789     Sjælland\n",
       "2280           continental  54.724245  10.692495   Syddanmark\n",
       "6043           continental  54.788093  12.077646     Sjælland\n",
       "6447         mediterranean  41.812222   2.295833     Cataluña\n",
       "4626           continental  57.502925  10.299818  Nordjylland\n",
       "310            continental  55.800150  12.349540  Hovedstaden\n",
       "3972           continental  56.085938  10.225793  Midtjylland\n",
       "1530              atlantic  57.137631   9.066958  Nordjylland\n",
       "6817           continental  55.701596  12.565128  Hovedstaden\n",
       "3205              atlantic  56.044650   9.198857  Midtjylland\n",
       "1191           continental  49.965190   9.756781       Bayern\n",
       "909            continental  55.091020  10.524820   Syddanmark"
      ]
     },
     "execution_count": 208,
     "metadata": {},
     "output_type": "execute_result"
    }
   ],
   "source": [
    "df_train[['biogeographicalRegion','latitude','longitude','region']].sample(20)"
   ]
  },
  {
   "cell_type": "code",
   "execution_count": 209,
   "id": "858b2c8d-1e43-4056-a711-d2823bf82b62",
   "metadata": {},
   "outputs": [],
   "source": [
    "\"\"\"To fill missing values in the biogeographical Region column, we can use a combination of geographical and ecological information.\n",
    "Based on the unique values (continental, boreal, atlantic, mediterranean, alpine, arctic, macaronesia), this is clearly a classification of ecological zones.\n",
    "\"\"\"\n",
    "\n",
    "# 1. Use coordinates to predict biogeographical region with KNN\n",
    "from sklearn.neighbors import KNeighborsClassifier\n",
    "\n",
    "# Filter to rows with coordinates and known biogeographical region\n",
    "coord_data = df_train.dropna(subset=['latitude', 'longitude', 'biogeographicalRegion'])\n",
    "\n",
    "# Train a KNN model\n",
    "X = coord_data[['latitude', 'longitude']]\n",
    "y = coord_data['biogeographicalRegion']\n",
    "knn = KNeighborsClassifier(n_neighbors=5)\n",
    "knn.fit(X, y)\n",
    "\n",
    "# Predict for missing values that have coordinates\n",
    "missing_with_coords = df_train[df_train['biogeographicalRegion'].isna() & \n",
    "                              df_train['latitude'].notna() & \n",
    "                              df_train['longitude'].notna()]\n",
    "\n",
    "if len(missing_with_coords) > 0:\n",
    "    X_missing = missing_with_coords[['latitude', 'longitude']]\n",
    "    predictions = knn.predict(X_missing)\n",
    "    df_train.loc[missing_with_coords.index, 'biogeographicalRegion'] = predictions"
   ]
  },
  {
   "cell_type": "code",
   "execution_count": 210,
   "id": "ab07734d-1159-4c41-b9cf-e9f7a337e934",
   "metadata": {},
   "outputs": [
    {
     "data": {
      "text/plain": [
       "0"
      ]
     },
     "execution_count": 210,
     "metadata": {},
     "output_type": "execute_result"
    }
   ],
   "source": [
    "df_train['biogeographicalRegion'].isna().sum()"
   ]
  },
  {
   "cell_type": "code",
   "execution_count": 211,
   "id": "282eb144-060b-4bd6-b0ef-5a62c40ab38b",
   "metadata": {},
   "outputs": [
    {
     "data": {
      "text/plain": [
       "dtype('float64')"
      ]
     },
     "execution_count": 211,
     "metadata": {},
     "output_type": "execute_result"
    }
   ],
   "source": [
    "#  now for elevation column\n",
    "df_train['elevation'].dtype"
   ]
  },
  {
   "cell_type": "code",
   "execution_count": 212,
   "id": "0b9b4fa2-1da3-4def-ad1a-be857bbdd1fe",
   "metadata": {},
   "outputs": [
    {
     "data": {
      "text/plain": [
       "97"
      ]
     },
     "execution_count": 212,
     "metadata": {},
     "output_type": "execute_result"
    }
   ],
   "source": [
    "df_train['elevation'].isna().sum()"
   ]
  },
  {
   "cell_type": "code",
   "execution_count": 213,
   "id": "8af63c2d-9518-47a3-8535-8b261aded49d",
   "metadata": {},
   "outputs": [
    {
     "data": {
      "text/plain": [
       "count    7722.000000\n",
       "mean       72.065754\n",
       "std       163.440745\n",
       "min         0.000000\n",
       "25%         0.000000\n",
       "50%        14.000000\n",
       "75%        68.000000\n",
       "max      1600.000000\n",
       "Name: elevation, dtype: float64"
      ]
     },
     "execution_count": 213,
     "metadata": {},
     "output_type": "execute_result"
    }
   ],
   "source": [
    "df_train['elevation'].describe()"
   ]
  },
  {
   "cell_type": "code",
   "execution_count": 215,
   "id": "049042d7-a687-4d05-913f-1a9c18a197d6",
   "metadata": {},
   "outputs": [],
   "source": [
    "# Step 1: Calculate median elevation per region\n",
    "region_medians = df_train.groupby('biogeographicalRegion')['elevation'].median()\n",
    "\n",
    "# Step 2: Fill missing values with their region's median\n",
    "df_train['elevation'] = df_train.groupby('biogeographicalRegion')['elevation'].transform(\n",
    "    lambda x: x.fillna(x.median())\n",
    ")"
   ]
  },
  {
   "cell_type": "code",
   "execution_count": 216,
   "id": "41053b1d-f84f-440b-bf37-649fc93d2059",
   "metadata": {},
   "outputs": [
    {
     "data": {
      "text/plain": [
       "0"
      ]
     },
     "execution_count": 216,
     "metadata": {},
     "output_type": "execute_result"
    }
   ],
   "source": [
    "df_train['elevation'].isna().sum()"
   ]
  },
  {
   "cell_type": "code",
   "execution_count": 217,
   "id": "1c7ff578-ec78-4227-8e98-4825682218bc",
   "metadata": {},
   "outputs": [
    {
     "data": {
      "text/plain": [
       "eventDate                  0\n",
       "year                       0\n",
       "month                      0\n",
       "day                        0\n",
       "habitat                    0\n",
       "countryCode                0\n",
       "scientificName             0\n",
       "kingdom                    0\n",
       "phylum                     0\n",
       "class                      0\n",
       "order                      0\n",
       "family                     0\n",
       "genus                      0\n",
       "specificEpithet            0\n",
       "hasCoordinate              0\n",
       "species                    0\n",
       "iucnRedListCategory        0\n",
       "substrate                  0\n",
       "latitude                   0\n",
       "longitude                  0\n",
       "coorUncert                 0\n",
       "observationID              0\n",
       "region                     0\n",
       "district                   0\n",
       "filename                   0\n",
       "category_id                0\n",
       "metaSubstrate              0\n",
       "poisonous                  0\n",
       "elevation                  0\n",
       "landcover                103\n",
       "biogeographicalRegion      0\n",
       "dtype: int64"
      ]
     },
     "execution_count": 217,
     "metadata": {},
     "output_type": "execute_result"
    }
   ],
   "source": [
    "df_train.isna().sum()"
   ]
  },
  {
   "cell_type": "code",
   "execution_count": 218,
   "id": "335063df-4092-4ba1-bad1-57bcff7bd420",
   "metadata": {},
   "outputs": [
    {
     "data": {
      "text/plain": [
       "dtype('float64')"
      ]
     },
     "execution_count": 218,
     "metadata": {},
     "output_type": "execute_result"
    }
   ],
   "source": [
    "#  now for landcover column\n",
    "df_train['landcover'].dtype"
   ]
  },
  {
   "cell_type": "code",
   "execution_count": 219,
   "id": "fdca42f9-bdcf-4efc-8b55-4977a8f54d9d",
   "metadata": {},
   "outputs": [
    {
     "data": {
      "text/plain": [
       "count    7716.000000\n",
       "mean       11.714619\n",
       "std         5.251739\n",
       "min         0.000000\n",
       "25%         8.000000\n",
       "50%        12.000000\n",
       "75%        17.000000\n",
       "max        17.000000\n",
       "Name: landcover, dtype: float64"
      ]
     },
     "execution_count": 219,
     "metadata": {},
     "output_type": "execute_result"
    }
   ],
   "source": [
    "df_train['landcover'].describe()"
   ]
  },
  {
   "cell_type": "code",
   "execution_count": 220,
   "id": "39701e4f-adc4-420c-b8f8-59ed63c83dc7",
   "metadata": {},
   "outputs": [
    {
     "data": {
      "text/plain": [
       "array([16., 17., 14., 10.,  1.,  9., 13.,  5., 12.,  8., 11., nan,  4.,\n",
       "        0.])"
      ]
     },
     "execution_count": 220,
     "metadata": {},
     "output_type": "execute_result"
    }
   ],
   "source": [
    "df_train['landcover'].unique()"
   ]
  },
  {
   "cell_type": "code",
   "execution_count": 221,
   "id": "40e5ddf3-f251-43af-923e-4876bcb967a0",
   "metadata": {},
   "outputs": [],
   "source": [
    "# it's a float64 column with values ranging from 0 to 17, with a median of 12. This suggests it's  a coded categorical variable representing different land cover types (like forest, urban, agriculture, etc.) rather than a continuous value.\n",
    "# Since landcover is typically determined by geographical location, the best approach would be using KNN\n",
    "# 1. Use KNN with coordinates to predict landcover\n",
    "from sklearn.neighbors import KNeighborsRegressor\n",
    "\n",
    "# Filter to rows with coordinates and known landcover\n",
    "coord_data = df_train.dropna(subset=['latitude', 'longitude', 'landcover'])\n",
    "\n",
    "# Train a KNN model\n",
    "X = coord_data[['latitude', 'longitude']]\n",
    "y = coord_data['landcover']\n",
    "knn = KNeighborsRegressor(n_neighbors=5)\n",
    "knn.fit(X, y)\n",
    "\n",
    "# Predict for missing values that have coordinates\n",
    "missing_with_coords = df_train[df_train['landcover'].isna() & \n",
    "                              df_train['latitude'].notna() & \n",
    "                              df_train['longitude'].notna()]\n",
    "\n",
    "if len(missing_with_coords) > 0:\n",
    "    X_missing = missing_with_coords[['latitude', 'longitude']]\n",
    "    predictions = knn.predict(X_missing)\n",
    "    # Round to nearest landcover code since these appear to be discrete values\n",
    "    df_train.loc[missing_with_coords.index, 'landcover'] = np.round(predictions)"
   ]
  },
  {
   "cell_type": "code",
   "execution_count": 222,
   "id": "e806d199-c9e6-4b3d-a354-394f8bb9c96a",
   "metadata": {},
   "outputs": [
    {
     "data": {
      "text/plain": [
       "0"
      ]
     },
     "execution_count": 222,
     "metadata": {},
     "output_type": "execute_result"
    }
   ],
   "source": [
    "df_train['landcover'].isna().sum()"
   ]
  },
  {
   "cell_type": "code",
   "execution_count": 223,
   "id": "22890562-db42-4c30-8ba7-646d503061e1",
   "metadata": {},
   "outputs": [
    {
     "data": {
      "text/plain": [
       "eventDate                0\n",
       "year                     0\n",
       "month                    0\n",
       "day                      0\n",
       "habitat                  0\n",
       "countryCode              0\n",
       "scientificName           0\n",
       "kingdom                  0\n",
       "phylum                   0\n",
       "class                    0\n",
       "order                    0\n",
       "family                   0\n",
       "genus                    0\n",
       "specificEpithet          0\n",
       "hasCoordinate            0\n",
       "species                  0\n",
       "iucnRedListCategory      0\n",
       "substrate                0\n",
       "latitude                 0\n",
       "longitude                0\n",
       "coorUncert               0\n",
       "observationID            0\n",
       "region                   0\n",
       "district                 0\n",
       "filename                 0\n",
       "category_id              0\n",
       "metaSubstrate            0\n",
       "poisonous                0\n",
       "elevation                0\n",
       "landcover                0\n",
       "biogeographicalRegion    0\n",
       "dtype: int64"
      ]
     },
     "execution_count": 223,
     "metadata": {},
     "output_type": "execute_result"
    }
   ],
   "source": [
    "df_train.isna().sum()"
   ]
  },
  {
   "cell_type": "code",
   "execution_count": null,
   "id": "9d935684-1ba3-4908-a3bd-9e9126c08195",
   "metadata": {},
   "outputs": [],
   "source": []
  }
 ],
 "metadata": {
  "kernelspec": {
   "display_name": "Python 3 (ipykernel)",
   "language": "python",
   "name": "python3"
  },
  "language_info": {
   "codemirror_mode": {
    "name": "ipython",
    "version": 3
   },
   "file_extension": ".py",
   "mimetype": "text/x-python",
   "name": "python",
   "nbconvert_exporter": "python",
   "pygments_lexer": "ipython3",
   "version": "3.9.21"
  }
 },
 "nbformat": 4,
 "nbformat_minor": 5
}
