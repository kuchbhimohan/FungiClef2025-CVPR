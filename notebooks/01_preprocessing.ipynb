{
 "cells": [
  {
   "cell_type": "code",
   "execution_count": 2,
   "id": "20931d40-5f54-466e-9e5b-cbf20ef6cc30",
   "metadata": {},
   "outputs": [
    {
     "name": "stdout",
     "output_type": "stream",
     "text": [
      "Processing 7819 images...\n"
     ]
    },
    {
     "name": "stderr",
     "output_type": "stream",
     "text": [
      "100% 7819/7819 [04:16<00:00, 30.52it/s]\n"
     ]
    },
    {
     "name": "stdout",
     "output_type": "stream",
     "text": [
      "All images resized and saved to ../data/processed/train/train_500_384\n"
     ]
    }
   ],
   "source": [
    "import os\n",
    "from PIL import Image\n",
    "import numpy as np\n",
    "from tqdm import tqdm  # for progress bar\n",
    "\n",
    "# --- CONFIG ---\n",
    "input_dir = \"../data/raw/images/FungiTastic-FewShot/train/500p\"  # Path to original 500px training images\n",
    "output_dir = \"../data/processed/train/train_500_384\"    # Output folder for processed images\n",
    "os.makedirs(output_dir, exist_ok=True)        # Create output folder if it doesn't exist\n",
    "\n",
    "# --- RESIZE FUNCTION ---\n",
    "def resize_and_save(image_path, output_path, target_size=384):\n",
    "    \"\"\"Resize image to square (384x384) and save as .jpg\"\"\"\n",
    "    img = Image.open(image_path).convert(\"RGB\")\n",
    "    \n",
    "    # Resize shortest side to 384, then center crop\n",
    "    # Resize shortest side to 384, then center crop\n",
    "    img = img.resize(\n",
    "        (max(target_size, int(img.size[0] * target_size / min(img.size))),\n",
    "         max(target_size, int(img.size[1] * target_size / min(img.size))))\n",
    "    )\n",
    "    \n",
    "    # Center crop to exact 384x384\n",
    "        \n",
    "    left = (img.size[0] - target_size)/2\n",
    "    top = (img.size[1] - target_size)/2\n",
    "    img = img.crop((left, top, left + target_size, top + target_size))\n",
    "    \n",
    "    img.save(output_path, quality=95)  # Save as JPG with high quality\n",
    "\n",
    "\n",
    "# --- PROCESS ALL IMAGES ---\n",
    "print(f\"Processing {len(os.listdir(input_dir))} images...\")\n",
    "for filename in tqdm(os.listdir(input_dir)):\n",
    "    if filename.lower().endswith(('.png', '.jpg', '.jpeg')):\n",
    "        input_path = os.path.join(input_dir, filename)\n",
    "        output_path = os.path.join(output_dir, os.path.splitext(filename)[0] + \".jpg\")\n",
    "        resize_and_save(input_path, output_path)\n",
    "\n",
    "print(f\"All images resized and saved to {output_dir}\")"
   ]
  },
  {
   "cell_type": "code",
   "execution_count": null,
   "id": "bf843dd1-9ef5-464e-a3d4-100b99f75409",
   "metadata": {},
   "outputs": [],
   "source": []
  },
  {
   "cell_type": "code",
   "execution_count": 3,
   "id": "608234cf-847d-4c27-aea7-3899c1ecab3c",
   "metadata": {},
   "outputs": [
    {
     "name": "stdout",
     "output_type": "stream",
     "text": [
      "Processing 2285 images...\n"
     ]
    },
    {
     "name": "stderr",
     "output_type": "stream",
     "text": [
      " 14% 318/2285 [00:08<00:55, 35.35it/s]\n"
     ]
    },
    {
     "ename": "OSError",
     "evalue": "image file is truncated (4 bytes not processed)",
     "output_type": "error",
     "traceback": [
      "\u001b[0;31m---------------------------------------------------------------------------\u001b[0m",
      "\u001b[0;31mOSError\u001b[0m                                   Traceback (most recent call last)",
      "Cell \u001b[0;32mIn[3], line 38\u001b[0m\n\u001b[1;32m     36\u001b[0m         input_path \u001b[38;5;241m=\u001b[39m os\u001b[38;5;241m.\u001b[39mpath\u001b[38;5;241m.\u001b[39mjoin(input_dir, filename)\n\u001b[1;32m     37\u001b[0m         output_path \u001b[38;5;241m=\u001b[39m os\u001b[38;5;241m.\u001b[39mpath\u001b[38;5;241m.\u001b[39mjoin(output_dir, os\u001b[38;5;241m.\u001b[39mpath\u001b[38;5;241m.\u001b[39msplitext(filename)[\u001b[38;5;241m0\u001b[39m] \u001b[38;5;241m+\u001b[39m \u001b[38;5;124m\"\u001b[39m\u001b[38;5;124m.jpg\u001b[39m\u001b[38;5;124m\"\u001b[39m)\n\u001b[0;32m---> 38\u001b[0m         \u001b[43mresize_and_save\u001b[49m\u001b[43m(\u001b[49m\u001b[43minput_path\u001b[49m\u001b[43m,\u001b[49m\u001b[43m \u001b[49m\u001b[43moutput_path\u001b[49m\u001b[43m)\u001b[49m\n\u001b[1;32m     40\u001b[0m \u001b[38;5;28mprint\u001b[39m(\u001b[38;5;124mf\u001b[39m\u001b[38;5;124m\"\u001b[39m\u001b[38;5;124mAll images resized and saved to \u001b[39m\u001b[38;5;132;01m{\u001b[39;00moutput_dir\u001b[38;5;132;01m}\u001b[39;00m\u001b[38;5;124m\"\u001b[39m)\n",
      "Cell \u001b[0;32mIn[3], line 14\u001b[0m, in \u001b[0;36mresize_and_save\u001b[0;34m(image_path, output_path, target_size)\u001b[0m\n\u001b[1;32m     12\u001b[0m \u001b[38;5;28;01mdef\u001b[39;00m\u001b[38;5;250m \u001b[39m\u001b[38;5;21mresize_and_save\u001b[39m(image_path, output_path, target_size\u001b[38;5;241m=\u001b[39m\u001b[38;5;241m384\u001b[39m):\n\u001b[1;32m     13\u001b[0m \u001b[38;5;250m    \u001b[39m\u001b[38;5;124;03m\"\"\"Resize image to square (384x384) and save as .jpg\"\"\"\u001b[39;00m\n\u001b[0;32m---> 14\u001b[0m     img \u001b[38;5;241m=\u001b[39m \u001b[43mImage\u001b[49m\u001b[38;5;241;43m.\u001b[39;49m\u001b[43mopen\u001b[49m\u001b[43m(\u001b[49m\u001b[43mimage_path\u001b[49m\u001b[43m)\u001b[49m\u001b[38;5;241;43m.\u001b[39;49m\u001b[43mconvert\u001b[49m\u001b[43m(\u001b[49m\u001b[38;5;124;43m\"\u001b[39;49m\u001b[38;5;124;43mRGB\u001b[39;49m\u001b[38;5;124;43m\"\u001b[39;49m\u001b[43m)\u001b[49m\n\u001b[1;32m     16\u001b[0m     \u001b[38;5;66;03m# Resize shortest side to 384, then center crop\u001b[39;00m\n\u001b[1;32m     17\u001b[0m     \u001b[38;5;66;03m# Resize shortest side to 384, then center crop\u001b[39;00m\n\u001b[1;32m     18\u001b[0m     img \u001b[38;5;241m=\u001b[39m img\u001b[38;5;241m.\u001b[39mresize(\n\u001b[1;32m     19\u001b[0m         (\u001b[38;5;28mmax\u001b[39m(target_size, \u001b[38;5;28mint\u001b[39m(img\u001b[38;5;241m.\u001b[39msize[\u001b[38;5;241m0\u001b[39m] \u001b[38;5;241m*\u001b[39m target_size \u001b[38;5;241m/\u001b[39m \u001b[38;5;28mmin\u001b[39m(img\u001b[38;5;241m.\u001b[39msize))),\n\u001b[1;32m     20\u001b[0m          \u001b[38;5;28mmax\u001b[39m(target_size, \u001b[38;5;28mint\u001b[39m(img\u001b[38;5;241m.\u001b[39msize[\u001b[38;5;241m1\u001b[39m] \u001b[38;5;241m*\u001b[39m target_size \u001b[38;5;241m/\u001b[39m \u001b[38;5;28mmin\u001b[39m(img\u001b[38;5;241m.\u001b[39msize))))\n\u001b[1;32m     21\u001b[0m     )\n",
      "File \u001b[0;32m/usr/local/lib/python3.9/site-packages/PIL/Image.py:933\u001b[0m, in \u001b[0;36mImage.convert\u001b[0;34m(self, mode, matrix, dither, palette, colors)\u001b[0m\n\u001b[1;32m    885\u001b[0m \u001b[38;5;28;01mdef\u001b[39;00m\u001b[38;5;250m \u001b[39m\u001b[38;5;21mconvert\u001b[39m(\n\u001b[1;32m    886\u001b[0m     \u001b[38;5;28mself\u001b[39m, mode\u001b[38;5;241m=\u001b[39m\u001b[38;5;28;01mNone\u001b[39;00m, matrix\u001b[38;5;241m=\u001b[39m\u001b[38;5;28;01mNone\u001b[39;00m, dither\u001b[38;5;241m=\u001b[39m\u001b[38;5;28;01mNone\u001b[39;00m, palette\u001b[38;5;241m=\u001b[39mPalette\u001b[38;5;241m.\u001b[39mWEB, colors\u001b[38;5;241m=\u001b[39m\u001b[38;5;241m256\u001b[39m\n\u001b[1;32m    887\u001b[0m ):\n\u001b[1;32m    888\u001b[0m \u001b[38;5;250m    \u001b[39m\u001b[38;5;124;03m\"\"\"\u001b[39;00m\n\u001b[1;32m    889\u001b[0m \u001b[38;5;124;03m    Returns a converted copy of this image. For the \"P\" mode, this\u001b[39;00m\n\u001b[1;32m    890\u001b[0m \u001b[38;5;124;03m    method translates pixels through the palette.  If mode is\u001b[39;00m\n\u001b[0;32m   (...)\u001b[0m\n\u001b[1;32m    930\u001b[0m \u001b[38;5;124;03m    :returns: An :py:class:`~PIL.Image.Image` object.\u001b[39;00m\n\u001b[1;32m    931\u001b[0m \u001b[38;5;124;03m    \"\"\"\u001b[39;00m\n\u001b[0;32m--> 933\u001b[0m     \u001b[38;5;28;43mself\u001b[39;49m\u001b[38;5;241;43m.\u001b[39;49m\u001b[43mload\u001b[49m\u001b[43m(\u001b[49m\u001b[43m)\u001b[49m\n\u001b[1;32m    935\u001b[0m     has_transparency \u001b[38;5;241m=\u001b[39m \u001b[38;5;28mself\u001b[39m\u001b[38;5;241m.\u001b[39minfo\u001b[38;5;241m.\u001b[39mget(\u001b[38;5;124m\"\u001b[39m\u001b[38;5;124mtransparency\u001b[39m\u001b[38;5;124m\"\u001b[39m) \u001b[38;5;129;01mis\u001b[39;00m \u001b[38;5;129;01mnot\u001b[39;00m \u001b[38;5;28;01mNone\u001b[39;00m\n\u001b[1;32m    936\u001b[0m     \u001b[38;5;28;01mif\u001b[39;00m \u001b[38;5;129;01mnot\u001b[39;00m mode \u001b[38;5;129;01mand\u001b[39;00m \u001b[38;5;28mself\u001b[39m\u001b[38;5;241m.\u001b[39mmode \u001b[38;5;241m==\u001b[39m \u001b[38;5;124m\"\u001b[39m\u001b[38;5;124mP\u001b[39m\u001b[38;5;124m\"\u001b[39m:\n\u001b[1;32m    937\u001b[0m         \u001b[38;5;66;03m# determine default mode\u001b[39;00m\n",
      "File \u001b[0;32m/usr/local/lib/python3.9/site-packages/PIL/ImageFile.py:266\u001b[0m, in \u001b[0;36mImageFile.load\u001b[0;34m(self)\u001b[0m\n\u001b[1;32m    261\u001b[0m     \u001b[38;5;28;01melse\u001b[39;00m:\n\u001b[1;32m    262\u001b[0m         msg \u001b[38;5;241m=\u001b[39m (\n\u001b[1;32m    263\u001b[0m             \u001b[38;5;124m\"\u001b[39m\u001b[38;5;124mimage file is truncated \u001b[39m\u001b[38;5;124m\"\u001b[39m\n\u001b[1;32m    264\u001b[0m             \u001b[38;5;124mf\u001b[39m\u001b[38;5;124m\"\u001b[39m\u001b[38;5;124m(\u001b[39m\u001b[38;5;132;01m{\u001b[39;00m\u001b[38;5;28mlen\u001b[39m(b)\u001b[38;5;132;01m}\u001b[39;00m\u001b[38;5;124m bytes not processed)\u001b[39m\u001b[38;5;124m\"\u001b[39m\n\u001b[1;32m    265\u001b[0m         )\n\u001b[0;32m--> 266\u001b[0m         \u001b[38;5;28;01mraise\u001b[39;00m \u001b[38;5;167;01mOSError\u001b[39;00m(msg)\n\u001b[1;32m    268\u001b[0m b \u001b[38;5;241m=\u001b[39m b \u001b[38;5;241m+\u001b[39m s\n\u001b[1;32m    269\u001b[0m n, err_code \u001b[38;5;241m=\u001b[39m decoder\u001b[38;5;241m.\u001b[39mdecode(b)\n",
      "\u001b[0;31mOSError\u001b[0m: image file is truncated (4 bytes not processed)"
     ]
    }
   ],
   "source": [
    "import os\n",
    "from PIL import Image\n",
    "import numpy as np\n",
    "from tqdm import tqdm  # for progress bar\n",
    "\n",
    "# --- CONFIG ---\n",
    "input_dir = \"../data/raw/images/FungiTastic-FewShot/val/500p\"  # Path to original 500px training images\n",
    "output_dir = \"../data/processed/val/val_500_384\"    # Output folder for processed images\n",
    "os.makedirs(output_dir, exist_ok=True)        # Create output folder if it doesn't exist\n",
    "\n",
    "# --- RESIZE FUNCTION ---\n",
    "def resize_and_save(image_path, output_path, target_size=384):\n",
    "    \"\"\"Resize image to square (384x384) and save as .jpg\"\"\"\n",
    "    img = Image.open(image_path).convert(\"RGB\")\n",
    "    \n",
    "    # Resize shortest side to 384, then center crop\n",
    "    # Resize shortest side to 384, then center crop\n",
    "    img = img.resize(\n",
    "        (max(target_size, int(img.size[0] * target_size / min(img.size))),\n",
    "         max(target_size, int(img.size[1] * target_size / min(img.size))))\n",
    "    )\n",
    "    \n",
    "    # Center crop to exact 384x384\n",
    "        \n",
    "    left = (img.size[0] - target_size)/2\n",
    "    top = (img.size[1] - target_size)/2\n",
    "    img = img.crop((left, top, left + target_size, top + target_size))\n",
    "    \n",
    "    img.save(output_path, quality=95)  # Save as JPG with high quality\n",
    "\n",
    "\n",
    "# --- PROCESS ALL IMAGES ---\n",
    "print(f\"Processing {len(os.listdir(input_dir))} images...\")\n",
    "for filename in tqdm(os.listdir(input_dir)):\n",
    "    if filename.lower().endswith(('.png', '.jpg', '.jpeg')):\n",
    "        input_path = os.path.join(input_dir, filename)\n",
    "        output_path = os.path.join(output_dir, os.path.splitext(filename)[0] + \".jpg\")\n",
    "        resize_and_save(input_path, output_path)\n",
    "\n",
    "print(f\"All images resized and saved to {output_dir}\")"
   ]
  },
  {
   "cell_type": "code",
   "execution_count": null,
   "id": "1f688093-f836-47dc-ae6e-bdeeebde8838",
   "metadata": {},
   "outputs": [],
   "source": []
  }
 ],
 "metadata": {
  "kernelspec": {
   "display_name": "Python 3 (ipykernel)",
   "language": "python",
   "name": "python3"
  },
  "language_info": {
   "codemirror_mode": {
    "name": "ipython",
    "version": 3
   },
   "file_extension": ".py",
   "mimetype": "text/x-python",
   "name": "python",
   "nbconvert_exporter": "python",
   "pygments_lexer": "ipython3",
   "version": "3.9.21"
  }
 },
 "nbformat": 4,
 "nbformat_minor": 5
}
